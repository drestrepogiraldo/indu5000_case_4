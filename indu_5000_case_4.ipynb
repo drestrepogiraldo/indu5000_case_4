{
 "cells": [
  {
   "cell_type": "markdown",
   "source": "# Case 4",
   "metadata": {
    "tags": [],
    "is_collapsed": false,
    "cell_id": "00000-884fbcd6-d045-4b50-8121-bf05fcd2b278",
    "deepnote_cell_type": "text-cell-h1"
   }
  },
  {
   "cell_type": "markdown",
   "source": "## Business Problem",
   "metadata": {
    "tags": [],
    "is_collapsed": false,
    "cell_id": "00001-dbe052f0-6d61-42bb-85ea-78f2ee77d508",
    "deepnote_cell_type": "text-cell-h2"
   }
  },
  {
   "cell_type": "markdown",
   "source": "You a solmelier on a well known restaurant in the city and you want to have a better understanding of he wines you are selling and see if the restaurant needs new wines.\n",
   "metadata": {
    "tags": [],
    "cell_id": "00002-b950dd1e-906f-4bbe-b5bd-654536cd8a1b",
    "deepnote_cell_type": "markdown"
   }
  },
  {
   "cell_type": "markdown",
   "source": "## Packages Import",
   "metadata": {
    "tags": [],
    "is_collapsed": false,
    "cell_id": "00003-8c524856-cff9-4028-b5e0-cbb86bb4feb4",
    "deepnote_cell_type": "text-cell-h2"
   }
  },
  {
   "cell_type": "code",
   "metadata": {
    "tags": [],
    "cell_id": "00001-33dc541d-4cee-420d-b4d6-62ad2064a817",
    "deepnote_to_be_reexecuted": false,
    "source_hash": "b82f95e8",
    "execution_start": 1634407546746,
    "execution_millis": 2440,
    "deepnote_cell_type": "code"
   },
   "source": "import numpy as np # linear algebra\nimport pandas as pd # data processing, CSV file I/O (e.g. pd.read_csv)\nimport seaborn as sns # data visualization library  \nimport matplotlib.pyplot as plt",
   "execution_count": 1,
   "outputs": []
  },
  {
   "cell_type": "markdown",
   "source": "## Data Import",
   "metadata": {
    "tags": [],
    "is_collapsed": false,
    "cell_id": "00005-0ecc572f-9a53-498b-be10-18fc9b0ffe27",
    "deepnote_cell_type": "text-cell-h2"
   }
  },
  {
   "cell_type": "markdown",
   "source": "The information was downloaded from a freely available dataset from [Kaggle](https://www.kaggle.com/zynicide/wine-reviews)",
   "metadata": {
    "tags": [],
    "cell_id": "00006-dffa69f2-981c-4a4c-9983-ff042730badc",
    "deepnote_cell_type": "markdown"
   }
  },
  {
   "cell_type": "code",
   "metadata": {
    "tags": [],
    "cell_id": "00002-6baf55a1-239c-43ab-8aec-020fa3e28694",
    "deepnote_to_be_reexecuted": false,
    "source_hash": "ba3126ea",
    "execution_start": 1634407549205,
    "execution_millis": 1851,
    "deepnote_cell_type": "code"
   },
   "source": "df_wine_reviews=pd.read_csv('/work/indu5000_case_4/Data/winemag-data_first150k.csv')\ndf_wine_reviews.head(5)",
   "execution_count": 2,
   "outputs": [
    {
     "output_type": "execute_result",
     "execution_count": 2,
     "data": {
      "application/vnd.deepnote.dataframe.v2+json": {
       "row_count": 5,
       "column_count": 11,
       "columns": [
        {
         "name": "Unnamed: 0",
         "dtype": "int64",
         "stats": {
          "unique_count": 5,
          "nan_count": 0,
          "min": "0",
          "max": "4",
          "histogram": [
           {
            "bin_start": 0,
            "bin_end": 0.4,
            "count": 1
           },
           {
            "bin_start": 0.4,
            "bin_end": 0.8,
            "count": 0
           },
           {
            "bin_start": 0.8,
            "bin_end": 1.2000000000000002,
            "count": 1
           },
           {
            "bin_start": 1.2000000000000002,
            "bin_end": 1.6,
            "count": 0
           },
           {
            "bin_start": 1.6,
            "bin_end": 2,
            "count": 0
           },
           {
            "bin_start": 2,
            "bin_end": 2.4000000000000004,
            "count": 1
           },
           {
            "bin_start": 2.4000000000000004,
            "bin_end": 2.8000000000000003,
            "count": 0
           },
           {
            "bin_start": 2.8000000000000003,
            "bin_end": 3.2,
            "count": 1
           },
           {
            "bin_start": 3.2,
            "bin_end": 3.6,
            "count": 0
           },
           {
            "bin_start": 3.6,
            "bin_end": 4,
            "count": 1
           }
          ]
         }
        },
        {
         "name": "country",
         "dtype": "object",
         "stats": {
          "unique_count": 3,
          "nan_count": 0,
          "categories": [
           {
            "name": "US",
            "count": 3
           },
           {
            "name": "Spain",
            "count": 1
           },
           {
            "name": "France",
            "count": 1
           }
          ]
         }
        },
        {
         "name": "description",
         "dtype": "object",
         "stats": {
          "unique_count": 5,
          "nan_count": 0,
          "categories": [
           {
            "name": "This tremendous 100% varietal wine hails from Oakville and was aged over three years in oak. Juicy red-cherry fruit and a compelling hint of caramel greet the palate, framed by elegant, fine tannins and a subtle minty tone in the background. Balanced and rewarding from start to finish, it has years ahead of it to develop further nuance. Enjoy 2022–2030.",
            "count": 1
           },
           {
            "name": "Ripe aromas of fig, blackberry and cassis are softened and sweetened by a slathering of oaky chocolate and vanilla. This is full, layered, intense and cushioned on the palate, with rich flavors of chocolaty black fruits and baking spices. A toasty, everlasting finish is heady but ideally balanced. Drink through 2023.",
            "count": 1
           },
           {
            "name": "3 others",
            "count": 3
           }
          ]
         }
        },
        {
         "name": "designation",
         "dtype": "object",
         "stats": {
          "unique_count": 5,
          "nan_count": 0,
          "categories": [
           {
            "name": "Martha's Vineyard",
            "count": 1
           },
           {
            "name": "Carodorum Selección Especial Reserva",
            "count": 1
           },
           {
            "name": "3 others",
            "count": 3
           }
          ]
         }
        },
        {
         "name": "points",
         "dtype": "int64",
         "stats": {
          "unique_count": 2,
          "nan_count": 0,
          "min": "95",
          "max": "96",
          "histogram": [
           {
            "bin_start": 95,
            "bin_end": 95.1,
            "count": 1
           },
           {
            "bin_start": 95.1,
            "bin_end": 95.2,
            "count": 0
           },
           {
            "bin_start": 95.2,
            "bin_end": 95.3,
            "count": 0
           },
           {
            "bin_start": 95.3,
            "bin_end": 95.4,
            "count": 0
           },
           {
            "bin_start": 95.4,
            "bin_end": 95.5,
            "count": 0
           },
           {
            "bin_start": 95.5,
            "bin_end": 95.6,
            "count": 0
           },
           {
            "bin_start": 95.6,
            "bin_end": 95.7,
            "count": 0
           },
           {
            "bin_start": 95.7,
            "bin_end": 95.8,
            "count": 0
           },
           {
            "bin_start": 95.8,
            "bin_end": 95.9,
            "count": 0
           },
           {
            "bin_start": 95.9,
            "bin_end": 96,
            "count": 4
           }
          ]
         }
        },
        {
         "name": "price",
         "dtype": "float64",
         "stats": {
          "unique_count": 5,
          "nan_count": 0,
          "min": "65.0",
          "max": "235.0",
          "histogram": [
           {
            "bin_start": 65,
            "bin_end": 82,
            "count": 2
           },
           {
            "bin_start": 82,
            "bin_end": 99,
            "count": 1
           },
           {
            "bin_start": 99,
            "bin_end": 116,
            "count": 1
           },
           {
            "bin_start": 116,
            "bin_end": 133,
            "count": 0
           },
           {
            "bin_start": 133,
            "bin_end": 150,
            "count": 0
           },
           {
            "bin_start": 150,
            "bin_end": 167,
            "count": 0
           },
           {
            "bin_start": 167,
            "bin_end": 184,
            "count": 0
           },
           {
            "bin_start": 184,
            "bin_end": 201,
            "count": 0
           },
           {
            "bin_start": 201,
            "bin_end": 218,
            "count": 0
           },
           {
            "bin_start": 218,
            "bin_end": 235,
            "count": 1
           }
          ]
         }
        },
        {
         "name": "province",
         "dtype": "object",
         "stats": {
          "unique_count": 4,
          "nan_count": 0,
          "categories": [
           {
            "name": "California",
            "count": 2
           },
           {
            "name": "Northern Spain",
            "count": 1
           },
           {
            "name": "2 others",
            "count": 2
           }
          ]
         }
        },
        {
         "name": "region_1",
         "dtype": "object",
         "stats": {
          "unique_count": 5,
          "nan_count": 0,
          "categories": [
           {
            "name": "Napa Valley",
            "count": 1
           },
           {
            "name": "Toro",
            "count": 1
           },
           {
            "name": "3 others",
            "count": 3
           }
          ]
         }
        },
        {
         "name": "region_2",
         "dtype": "object",
         "stats": {
          "unique_count": 3,
          "nan_count": 2,
          "categories": [
           {
            "name": "Napa",
            "count": 1
           },
           {
            "name": "2 others",
            "count": 2
           },
           {
            "name": "Missing",
            "count": 2
           }
          ]
         }
        },
        {
         "name": "variety",
         "dtype": "object",
         "stats": {
          "unique_count": 5,
          "nan_count": 0,
          "categories": [
           {
            "name": "Cabernet Sauvignon",
            "count": 1
           },
           {
            "name": "Tinta de Toro",
            "count": 1
           },
           {
            "name": "3 others",
            "count": 3
           }
          ]
         }
        },
        {
         "name": "winery",
         "dtype": "object",
         "stats": {
          "unique_count": 5,
          "nan_count": 0,
          "categories": [
           {
            "name": "Heitz",
            "count": 1
           },
           {
            "name": "Bodega Carmen Rodríguez",
            "count": 1
           },
           {
            "name": "3 others",
            "count": 3
           }
          ]
         }
        },
        {
         "name": "_deepnote_index_column",
         "dtype": "int64"
        }
       ],
       "rows_top": [
        {
         "Unnamed: 0": 0,
         "country": "US",
         "description": "This tremendous 100% varietal wine hails from Oakville and was aged over three years in oak. Juicy …",
         "designation": "Martha's Vineyard",
         "points": 96,
         "price": 235,
         "province": "California",
         "region_1": "Napa Valley",
         "region_2": "Napa",
         "variety": "Cabernet Sauvignon",
         "winery": "Heitz",
         "_deepnote_index_column": 0
        },
        {
         "Unnamed: 0": 1,
         "country": "Spain",
         "description": "Ripe aromas of fig, blackberry and cassis are softened and sweetened by a slathering of oaky chocol…",
         "designation": "Carodorum Selección Especial Reserva",
         "points": 96,
         "price": 110,
         "province": "Northern Spain",
         "region_1": "Toro",
         "region_2": "nan",
         "variety": "Tinta de Toro",
         "winery": "Bodega Carmen Rodríguez",
         "_deepnote_index_column": 1
        },
        {
         "Unnamed: 0": 2,
         "country": "US",
         "description": "Mac Watson honors the memory of a wine once made by his mother in this tremendously delicious, bala…",
         "designation": "Special Selected Late Harvest",
         "points": 96,
         "price": 90,
         "province": "California",
         "region_1": "Knights Valley",
         "region_2": "Sonoma",
         "variety": "Sauvignon Blanc",
         "winery": "Macauley",
         "_deepnote_index_column": 2
        },
        {
         "Unnamed: 0": 3,
         "country": "US",
         "description": "This spent 20 months in 30% new French oak, and incorporates fruit from Ponzi's Aurora, Abetina and…",
         "designation": "Reserve",
         "points": 96,
         "price": 65,
         "province": "Oregon",
         "region_1": "Willamette Valley",
         "region_2": "Willamette Valley",
         "variety": "Pinot Noir",
         "winery": "Ponzi",
         "_deepnote_index_column": 3
        },
        {
         "Unnamed: 0": 4,
         "country": "France",
         "description": "This is the top wine from La Bégude, named after the highest point in the vineyard at 1200 feet. It…",
         "designation": "La Brûlade",
         "points": 95,
         "price": 66,
         "province": "Provence",
         "region_1": "Bandol",
         "region_2": "nan",
         "variety": "Provence red blend",
         "winery": "Domaine de la Bégude",
         "_deepnote_index_column": 4
        }
       ],
       "rows_bottom": null
      },
      "text/plain": "   Unnamed: 0 country                                        description  \\\n0           0      US  This tremendous 100% varietal wine hails from ...   \n1           1   Spain  Ripe aromas of fig, blackberry and cassis are ...   \n2           2      US  Mac Watson honors the memory of a wine once ma...   \n3           3      US  This spent 20 months in 30% new French oak, an...   \n4           4  France  This is the top wine from La Bégude, named aft...   \n\n                            designation  points  price        province  \\\n0                     Martha's Vineyard      96  235.0      California   \n1  Carodorum Selección Especial Reserva      96  110.0  Northern Spain   \n2         Special Selected Late Harvest      96   90.0      California   \n3                               Reserve      96   65.0          Oregon   \n4                            La Brûlade      95   66.0        Provence   \n\n            region_1           region_2             variety  \\\n0        Napa Valley               Napa  Cabernet Sauvignon   \n1               Toro                NaN       Tinta de Toro   \n2     Knights Valley             Sonoma     Sauvignon Blanc   \n3  Willamette Valley  Willamette Valley          Pinot Noir   \n4             Bandol                NaN  Provence red blend   \n\n                    winery  \n0                    Heitz  \n1  Bodega Carmen Rodríguez  \n2                 Macauley  \n3                    Ponzi  \n4     Domaine de la Bégude  ",
      "text/html": "<div>\n<style scoped>\n    .dataframe tbody tr th:only-of-type {\n        vertical-align: middle;\n    }\n\n    .dataframe tbody tr th {\n        vertical-align: top;\n    }\n\n    .dataframe thead th {\n        text-align: right;\n    }\n</style>\n<table border=\"1\" class=\"dataframe\">\n  <thead>\n    <tr style=\"text-align: right;\">\n      <th></th>\n      <th>Unnamed: 0</th>\n      <th>country</th>\n      <th>description</th>\n      <th>designation</th>\n      <th>points</th>\n      <th>price</th>\n      <th>province</th>\n      <th>region_1</th>\n      <th>region_2</th>\n      <th>variety</th>\n      <th>winery</th>\n    </tr>\n  </thead>\n  <tbody>\n    <tr>\n      <th>0</th>\n      <td>0</td>\n      <td>US</td>\n      <td>This tremendous 100% varietal wine hails from ...</td>\n      <td>Martha's Vineyard</td>\n      <td>96</td>\n      <td>235.0</td>\n      <td>California</td>\n      <td>Napa Valley</td>\n      <td>Napa</td>\n      <td>Cabernet Sauvignon</td>\n      <td>Heitz</td>\n    </tr>\n    <tr>\n      <th>1</th>\n      <td>1</td>\n      <td>Spain</td>\n      <td>Ripe aromas of fig, blackberry and cassis are ...</td>\n      <td>Carodorum Selección Especial Reserva</td>\n      <td>96</td>\n      <td>110.0</td>\n      <td>Northern Spain</td>\n      <td>Toro</td>\n      <td>NaN</td>\n      <td>Tinta de Toro</td>\n      <td>Bodega Carmen Rodríguez</td>\n    </tr>\n    <tr>\n      <th>2</th>\n      <td>2</td>\n      <td>US</td>\n      <td>Mac Watson honors the memory of a wine once ma...</td>\n      <td>Special Selected Late Harvest</td>\n      <td>96</td>\n      <td>90.0</td>\n      <td>California</td>\n      <td>Knights Valley</td>\n      <td>Sonoma</td>\n      <td>Sauvignon Blanc</td>\n      <td>Macauley</td>\n    </tr>\n    <tr>\n      <th>3</th>\n      <td>3</td>\n      <td>US</td>\n      <td>This spent 20 months in 30% new French oak, an...</td>\n      <td>Reserve</td>\n      <td>96</td>\n      <td>65.0</td>\n      <td>Oregon</td>\n      <td>Willamette Valley</td>\n      <td>Willamette Valley</td>\n      <td>Pinot Noir</td>\n      <td>Ponzi</td>\n    </tr>\n    <tr>\n      <th>4</th>\n      <td>4</td>\n      <td>France</td>\n      <td>This is the top wine from La Bégude, named aft...</td>\n      <td>La Brûlade</td>\n      <td>95</td>\n      <td>66.0</td>\n      <td>Provence</td>\n      <td>Bandol</td>\n      <td>NaN</td>\n      <td>Provence red blend</td>\n      <td>Domaine de la Bégude</td>\n    </tr>\n  </tbody>\n</table>\n</div>"
     },
     "metadata": {}
    }
   ]
  },
  {
   "cell_type": "markdown",
   "source": "## Univariate Plotting",
   "metadata": {
    "tags": [],
    "is_collapsed": false,
    "cell_id": "00008-e490369c-5b51-4f21-8f7c-a8018a6dfe9e",
    "deepnote_cell_type": "text-cell-h2"
   }
  },
  {
   "cell_type": "markdown",
   "source": "### Bar Charts",
   "metadata": {
    "tags": [],
    "is_collapsed": false,
    "cell_id": "00009-0b8bf9c5-d23f-4fa7-bfc3-03691b7ff874",
    "deepnote_cell_type": "text-cell-h3"
   }
  },
  {
   "cell_type": "markdown",
   "source": "Bar charts are arguably the simplest data visualization. \nThey map categories to numbers: the amount of eggs consumed for breakfast (a category) to a number breakfast-eating Colombians, for example; or, in our case, wine-producing provinces of the world (category) to the number of labels of wines they produce (number):",
   "metadata": {
    "tags": [],
    "cell_id": "00010-994a233d-f58f-4942-b785-cc2d2b42dfca",
    "deepnote_cell_type": "markdown"
   }
  },
  {
   "cell_type": "code",
   "metadata": {
    "tags": [],
    "cell_id": "00009-9b4501a8-2de9-4cbf-9fb0-f6cf0432acf4",
    "deepnote_to_be_reexecuted": false,
    "source_hash": "edb73567",
    "execution_start": 1634407551086,
    "execution_millis": 541,
    "deepnote_cell_type": "code"
   },
   "source": "df_wine_reviews['province'].value_counts().head(10).plot.bar()",
   "execution_count": 3,
   "outputs": [
    {
     "output_type": "execute_result",
     "execution_count": 3,
     "data": {
      "text/plain": "<AxesSubplot:>"
     },
     "metadata": {}
    },
    {
     "data": {
      "text/plain": "<Figure size 432x288 with 1 Axes>",
      "image/png": "[encoded data removed]"
     },
     "metadata": {
      "needs_background": "light",
      "image/png": {
       "width": 387,
       "height": 329
      }
     },
     "output_type": "display_data"
    }
   ]
  },
  {
   "cell_type": "code",
   "metadata": {
    "tags": [],
    "cell_id": "00012-b6768b40-6f02-4d86-8649-de1691b4f50b",
    "deepnote_to_be_reexecuted": false,
    "source_hash": "614bfeab",
    "execution_start": 1634407551629,
    "execution_millis": 382,
    "deepnote_cell_type": "code"
   },
   "source": "df_wine_reviews_count_by_province = df_wine_reviews['province'].value_counts().head(10)\nplt.bar(df_wine_reviews_count_by_province.index,df_wine_reviews_count_by_province.values)\nplt.xticks(rotation='vertical');",
   "execution_count": 4,
   "outputs": [
    {
     "data": {
      "text/plain": "<Figure size 432x288 with 1 Axes>",
      "image/png": "[encoded data removed]"
     },
     "metadata": {
      "needs_background": "light",
      "image/png": {
       "width": 387,
       "height": 329
      }
     },
     "output_type": "display_data"
    }
   ]
  },
  {
   "cell_type": "code",
   "metadata": {
    "tags": [],
    "cell_id": "00013-04a5ec71-fc6d-4f41-8052-ad19f5c6a38a",
    "deepnote_to_be_reexecuted": false,
    "source_hash": "1ac826eb",
    "execution_start": 1634407552012,
    "execution_millis": 423,
    "deepnote_cell_type": "code"
   },
   "source": "sns.barplot(x=df_wine_reviews_count_by_province.index,y=df_wine_reviews_count_by_province.values);\nplt.xticks(rotation='vertical');",
   "execution_count": 5,
   "outputs": [
    {
     "data": {
      "text/plain": "<Figure size 432x288 with 1 Axes>",
      "image/png": "[encoded data removed]"
     },
     "metadata": {
      "needs_background": "light",
      "image/png": {
       "width": 387,
       "height": 329
      }
     },
     "output_type": "display_data"
    }
   ]
  },
  {
   "cell_type": "markdown",
   "source": "Bar charts are very flexible: The height can represent anything, as long as it is a number. And each bar can represent anything, as long as it is a category.",
   "metadata": {
    "tags": [],
    "cell_id": "00014-9531915a-fd70-40d7-a9d9-3f81f5863c7e",
    "deepnote_cell_type": "markdown"
   }
  },
  {
   "cell_type": "markdown",
   "source": "In this case the categories are **nominal categories**: \"pure\" categories that don't make a lot of sense to order. **Nominal categorical** variables include things like countries, ZIP codes, types of cheese, and lunar landers. The other kind are **ordinal categories**: things that do make sense to compare, like earthquake magnitudes, housing complexes with certain numbers of apartments, and the sizes of bags of chips at your local supermarket.\n\nOr, in our case, the number of reviews of a certain score allotted by Wine Magazine:",
   "metadata": {
    "tags": [],
    "cell_id": "00016-5ca9ab2c-5437-4a4e-9d92-6ff461929d6d",
    "deepnote_cell_type": "markdown"
   }
  },
  {
   "cell_type": "code",
   "metadata": {
    "tags": [],
    "cell_id": "00017-39a034f4-f240-4916-bf58-a1660d0faae0",
    "deepnote_to_be_reexecuted": false,
    "source_hash": "bb3c7871",
    "execution_start": 1634407552418,
    "execution_millis": 751,
    "deepnote_cell_type": "code"
   },
   "source": "sns.barplot(x=df_wine_reviews['points'].value_counts().sort_index().index,y=df_wine_reviews['points'].value_counts().sort_index().values);\nplt.xticks(rotation='vertical');",
   "execution_count": 6,
   "outputs": [
    {
     "data": {
      "text/plain": "<Figure size 432x288 with 1 Axes>",
      "image/png": "[encoded data removed]"
     },
     "metadata": {
      "needs_background": "light",
      "image/png": {
       "width": 387,
       "height": 257
      }
     },
     "output_type": "display_data"
    }
   ]
  },
  {
   "cell_type": "markdown",
   "source": "The bar chart (on pandas or seaborn) can also become a seaborn countplot",
   "metadata": {
    "tags": [],
    "cell_id": "00017-61a33a9c-c2e4-4308-89a3-50b8c741b384",
    "deepnote_cell_type": "markdown"
   }
  },
  {
   "cell_type": "code",
   "metadata": {
    "tags": [],
    "cell_id": "00017-bf09c730-5110-452e-b7d4-10bf41245e14",
    "deepnote_to_be_reexecuted": false,
    "source_hash": "5bb8f58f",
    "execution_start": 1634407553199,
    "execution_millis": 617,
    "deepnote_cell_type": "code"
   },
   "source": "sns.countplot(df_wine_reviews['points'])",
   "execution_count": 7,
   "outputs": [
    {
     "name": "stderr",
     "text": "/shared-libs/python3.7/py/lib/python3.7/site-packages/seaborn/_decorators.py:43: FutureWarning: Pass the following variable as a keyword arg: x. From version 0.12, the only valid positional argument will be `data`, and passing other arguments without an explicit keyword will result in an error or misinterpretation.\n  FutureWarning\n",
     "output_type": "stream"
    },
    {
     "output_type": "execute_result",
     "execution_count": 7,
     "data": {
      "text/plain": "<AxesSubplot:xlabel='points', ylabel='count'>"
     },
     "metadata": {}
    },
    {
     "data": {
      "text/plain": "<Figure size 432x288 with 1 Axes>",
      "image/png": "[encoded data removed]"
     },
     "metadata": {
      "needs_background": "light",
      "image/png": {
       "width": 403,
       "height": 262
      }
     },
     "output_type": "display_data"
    }
   ]
  },
  {
   "cell_type": "markdown",
   "source": "Comparing this chart with the bar chart from two notebooks ago, we find that, unlike pandas, seaborn doesn't require us to shape the data for it via value_counts; the countplot (true to its name) aggregates the data for us!",
   "metadata": {
    "tags": [],
    "cell_id": "00019-e79d1062-cdee-4644-887e-66a376e76116",
    "deepnote_cell_type": "markdown"
   }
  },
  {
   "cell_type": "markdown",
   "source": "### Line Charts",
   "metadata": {
    "tags": [],
    "is_collapsed": false,
    "cell_id": "00018-bba2764d-b412-4c38-bc76-c8c737240bd8",
    "deepnote_cell_type": "text-cell-h3"
   }
  },
  {
   "cell_type": "markdown",
   "source": "The wine review scorecard has 20 different unique values to fill, for which our bar chart is just barely enough. What would we do if the magazine rated things 0-100? We'd have 100 different categories; simply too many to fit a bar in for each one.\n\nIn that case, instead of bar chart, we could use a line chart:",
   "metadata": {
    "tags": [],
    "cell_id": "00019-bfcda326-91a8-40bc-984b-ba72e95d517b",
    "deepnote_cell_type": "markdown"
   }
  },
  {
   "cell_type": "code",
   "metadata": {
    "tags": [],
    "cell_id": "00020-8623ecd4-3a04-4df2-aeaa-ce360922a5d7",
    "deepnote_to_be_reexecuted": false,
    "source_hash": "9d36fdb3",
    "execution_start": 1634407553868,
    "execution_millis": 501,
    "deepnote_cell_type": "code"
   },
   "source": "\nsns.set_theme(style=\"darkgrid\")\nsns.lineplot(x=df_wine_reviews['points'].value_counts().sort_index().index,y=df_wine_reviews['points'].value_counts().sort_index().values);\nplt.xticks(rotation='vertical');",
   "execution_count": 8,
   "outputs": [
    {
     "data": {
      "text/plain": "<Figure size 432x288 with 1 Axes>",
      "image/png": "[encoded data removed]"
     },
     "metadata": {
      "image/png": {
       "width": 393,
       "height": 272
      }
     },
     "output_type": "display_data"
    }
   ]
  },
  {
   "cell_type": "markdown",
   "source": "A line chart can pass over any number of many individual values, making it the tool of first choice for distributions with many unique values or categories.\n\nHowever, line charts have an important weakness: unlike bar charts, they're not appropriate for nominal categorical data. While bar charts distinguish between every \"type\" of point line charts mushes them together. So a line chart asserts an order to the values on the horizontal axis, and the order won’t make sense with some data. After all, a \"descent\" from California to Washington to Tuscany doesn't mean much!\n\nLine charts also make it harder to distinguish between individual values.\n\nIn general, if your data can fit into a bar chart, just use a bar chart!",
   "metadata": {
    "tags": [],
    "cell_id": "00021-253e35ca-5c5b-49c5-84ae-c96385d03717",
    "deepnote_cell_type": "markdown"
   }
  },
  {
   "cell_type": "markdown",
   "source": "### Question 1",
   "metadata": {
    "tags": [],
    "is_collapsed": false,
    "cell_id": "00022-7426ea76-ad3c-4a14-9333-261055eb5283",
    "deepnote_cell_type": "text-cell-h3"
   }
  },
  {
   "cell_type": "markdown",
   "source": "Quick break: bar or line\nLet's do a quick exercise. Suppose that we're interested in counting the following variables:\n\n- The number of tubs of ice cream purchased by flavor, given that there are 5 different flavors.\n- The average number of cars purchased from American car manufacturers in Michigan.\n- Test scores given to students by teachers at a college, on a 0-100 scale.\n- The number of restaurants located on the street by the name of the street in Lower Manhattan.\n\n\nFor which of these would a bar chart be better? Which ones would be better off with a line?\n\n",
   "metadata": {
    "tags": [],
    "cell_id": "00023-0c3e134b-91fb-4ee4-bca1-696fe8b1d1b0",
    "deepnote_cell_type": "markdown"
   }
  },
  {
   "cell_type": "markdown",
   "source": "### Area Chart",
   "metadata": {
    "tags": [],
    "is_collapsed": false,
    "cell_id": "00023-f331cb20-86a4-4269-b082-586f163d4f3a",
    "deepnote_cell_type": "text-cell-h3"
   }
  },
  {
   "cell_type": "markdown",
   "source": "Area charts are just line charts, but with the bottom shaded in. That's it!",
   "metadata": {
    "tags": [],
    "cell_id": "00024-4ab26faf-f66e-463d-a06b-160cd8528f35",
    "deepnote_cell_type": "markdown"
   }
  },
  {
   "cell_type": "code",
   "metadata": {
    "tags": [],
    "cell_id": "00025-781c1a33-2d79-493a-a7b7-5754b6a5ecee",
    "deepnote_to_be_reexecuted": false,
    "source_hash": "f143b707",
    "execution_start": 1634407554425,
    "execution_millis": 491,
    "deepnote_cell_type": "code"
   },
   "source": "df_wine_reviews['points'].value_counts().sort_index().plot.area()",
   "execution_count": 9,
   "outputs": [
    {
     "output_type": "execute_result",
     "execution_count": 9,
     "data": {
      "text/plain": "<AxesSubplot:>"
     },
     "metadata": {}
    },
    {
     "data": {
      "text/plain": "<Figure size 432x288 with 1 Axes>",
      "image/png": "[encoded data removed]"
     },
     "metadata": {
      "image/png": {
       "width": 394,
       "height": 251
      }
     },
     "output_type": "display_data"
    }
   ]
  },
  {
   "cell_type": "markdown",
   "source": "### Histograms",
   "metadata": {
    "tags": [],
    "is_collapsed": false,
    "cell_id": "00026-446bfeee-991d-43d8-bbf9-9b06559d2068",
    "deepnote_cell_type": "text-cell-h3"
   }
  },
  {
   "cell_type": "markdown",
   "source": "let's look ooking at yet another type of data, an **interval variable**. \n\nExamples of interval variables are the wind speed in a hurricane, shear strength in concrete, and the temperature of the sun. An interval variable goes beyond an ordinal categorical variable: it has a meaningful order, in the sense that we can quantify what the difference between two entries is itself an interval variable. Any variable that has infinitely many possible values is definitely an interval variable.\n\nLine charts work well for interval data. Bar charts don't—unless your ability to measure it is very limited, interval data will naturally vary by quite a lot.\n\nLet's apply a new tool, the histogram, to an interval variable in our dataset: price. But we will take a look at the bottles with a price lower than $200 USD",
   "metadata": {
    "tags": [],
    "cell_id": "00027-6394c8d4-46f8-4d3b-b8c0-8be7321e50f1",
    "deepnote_cell_type": "markdown"
   }
  },
  {
   "cell_type": "code",
   "metadata": {
    "tags": [],
    "cell_id": "00028-4e93ca21-e8cb-49fe-a942-32e1c076e907",
    "deepnote_to_be_reexecuted": false,
    "source_hash": "20e118fb",
    "execution_start": 1634407554920,
    "execution_millis": 851,
    "deepnote_cell_type": "code"
   },
   "source": "df_wine_reviews_lower_200 = df_wine_reviews[df_wine_reviews['price'] < 150]['price']\nnumber_bins = 20\nsns.histplot(df_wine_reviews_lower_200,bins=number_bins)",
   "execution_count": 10,
   "outputs": [
    {
     "output_type": "execute_result",
     "execution_count": 10,
     "data": {
      "text/plain": "<AxesSubplot:xlabel='price', ylabel='Count'>"
     },
     "metadata": {}
    },
    {
     "data": {
      "text/plain": "<Figure size 432x288 with 1 Axes>",
      "image/png": "[encoded data removed]"
     },
     "metadata": {
      "image/png": {
       "width": 410,
       "height": 268
      }
     },
     "output_type": "display_data"
    }
   ]
  },
  {
   "cell_type": "markdown",
   "source": "However, histograms have one major shortcoming (the reason for our 200$ caveat earlier). Because they break space up into even intervals, they don't deal very well with skewed data:",
   "metadata": {
    "tags": [],
    "cell_id": "00029-a2a38fca-6504-4b2f-aef8-56982d119064",
    "deepnote_cell_type": "markdown"
   }
  },
  {
   "cell_type": "code",
   "metadata": {
    "tags": [],
    "cell_id": "00030-26e1be2b-e39c-41bb-b373-d6b5543b512f",
    "deepnote_to_be_reexecuted": false,
    "source_hash": "8b5c6289",
    "execution_start": 1634407555835,
    "execution_millis": 674,
    "deepnote_cell_type": "code"
   },
   "source": "number_bins = 20\nsns.histplot(df_wine_reviews['price'],bins=number_bins)",
   "execution_count": 11,
   "outputs": [
    {
     "output_type": "execute_result",
     "execution_count": 11,
     "data": {
      "text/plain": "<AxesSubplot:xlabel='price', ylabel='Count'>"
     },
     "metadata": {}
    },
    {
     "data": {
      "text/plain": "<Figure size 432x288 with 1 Axes>",
      "image/png": "[encoded data removed]"
     },
     "metadata": {
      "image/png": {
       "width": 417,
       "height": 270
      }
     },
     "output_type": "display_data"
    }
   ]
  },
  {
   "cell_type": "markdown",
   "source": "Some of these vintages are really expensive! And the chart will \"grow\" to include them, to the detriment of the rest of the data being shown.",
   "metadata": {
    "tags": [],
    "cell_id": "00031-0b0ddf37-ca56-43f3-a1d1-e57508598b11",
    "deepnote_cell_type": "markdown"
   }
  },
  {
   "cell_type": "code",
   "metadata": {
    "tags": [],
    "cell_id": "00032-b5c2c046-d1dd-45b4-a9e4-e0fb24fb4444",
    "deepnote_to_be_reexecuted": false,
    "source_hash": "7b87187",
    "execution_start": 1634407556515,
    "execution_millis": 145,
    "deepnote_cell_type": "code"
   },
   "source": "df_wine_reviews[df_wine_reviews['price'] > 1500]",
   "execution_count": 12,
   "outputs": [
    {
     "output_type": "execute_result",
     "execution_count": 12,
     "data": {
      "application/vnd.deepnote.dataframe.v2+json": {
       "row_count": 3,
       "column_count": 11,
       "columns": [
        {
         "name": "Unnamed: 0",
         "dtype": "int64",
         "stats": {
          "unique_count": 3,
          "nan_count": 0,
          "min": "13318",
          "max": "34922",
          "histogram": [
           {
            "bin_start": 13318,
            "bin_end": 15478.4,
            "count": 1
           },
           {
            "bin_start": 15478.4,
            "bin_end": 17638.8,
            "count": 0
           },
           {
            "bin_start": 17638.8,
            "bin_end": 19799.2,
            "count": 0
           },
           {
            "bin_start": 19799.2,
            "bin_end": 21959.6,
            "count": 0
           },
           {
            "bin_start": 21959.6,
            "bin_end": 24120,
            "count": 0
           },
           {
            "bin_start": 24120,
            "bin_end": 26280.4,
            "count": 0
           },
           {
            "bin_start": 26280.4,
            "bin_end": 28440.800000000003,
            "count": 0
           },
           {
            "bin_start": 28440.800000000003,
            "bin_end": 30601.2,
            "count": 0
           },
           {
            "bin_start": 30601.2,
            "bin_end": 32761.600000000002,
            "count": 0
           },
           {
            "bin_start": 32761.600000000002,
            "bin_end": 34922,
            "count": 2
           }
          ]
         }
        },
        {
         "name": "country",
         "dtype": "object",
         "stats": {
          "unique_count": 2,
          "nan_count": 0,
          "categories": [
           {
            "name": "France",
            "count": 2
           },
           {
            "name": "US",
            "count": 1
           }
          ]
         }
        },
        {
         "name": "description",
         "dtype": "object",
         "stats": {
          "unique_count": 3,
          "nan_count": 0,
          "categories": [
           {
            "name": "The nose on this single-vineyard wine from a strong, often overlooked appellation is tight and minerally before showing a slightly tropical kiwi element. Brightly acidic on the lively palate, flavors range from Key lime and Meyer lemon to pear skins and apple flesh.",
            "count": 1
           },
           {
            "name": "A big, powerful wine that sums up the richness of the vintage. It is densely fruity, spicy with an enormous black plum and berry fruit character to go with the acidity. It's concentrated while still showing such wonderfully pure fruit. The aging potential is immense.",
            "count": 1
           },
           {
            "name": "A massive wine for Margaux, packed with tannins and ripe fruit. It has more Cabernet Sauvignon than usual, giving intense black currant flavors with enticing acidity balanced by the sweetness of the fruit. Ripe swathes of this opulent fruit are also elegant and structured.",
            "count": 1
           }
          ]
         }
        },
        {
         "name": "designation",
         "dtype": "object",
         "stats": {
          "unique_count": 1,
          "nan_count": 2,
          "categories": [
           {
            "name": "Roger Rose Vineyard",
            "count": 1
           },
           {
            "name": "Missing",
            "count": 2
           }
          ]
         }
        },
        {
         "name": "points",
         "dtype": "int64",
         "stats": {
          "unique_count": 3,
          "nan_count": 0,
          "min": "91",
          "max": "99",
          "histogram": [
           {
            "bin_start": 91,
            "bin_end": 91.8,
            "count": 1
           },
           {
            "bin_start": 91.8,
            "bin_end": 92.6,
            "count": 0
           },
           {
            "bin_start": 92.6,
            "bin_end": 93.4,
            "count": 0
           },
           {
            "bin_start": 93.4,
            "bin_end": 94.2,
            "count": 0
           },
           {
            "bin_start": 94.2,
            "bin_end": 95,
            "count": 0
           },
           {
            "bin_start": 95,
            "bin_end": 95.8,
            "count": 0
           },
           {
            "bin_start": 95.8,
            "bin_end": 96.6,
            "count": 0
           },
           {
            "bin_start": 96.6,
            "bin_end": 97.4,
            "count": 0
           },
           {
            "bin_start": 97.4,
            "bin_end": 98.2,
            "count": 1
           },
           {
            "bin_start": 98.2,
            "bin_end": 99,
            "count": 1
           }
          ]
         }
        },
        {
         "name": "price",
         "dtype": "float64",
         "stats": {
          "unique_count": 3,
          "nan_count": 0,
          "min": "1900.0",
          "max": "2300.0",
          "histogram": [
           {
            "bin_start": 1900,
            "bin_end": 1940,
            "count": 1
           },
           {
            "bin_start": 1940,
            "bin_end": 1980,
            "count": 0
           },
           {
            "bin_start": 1980,
            "bin_end": 2020,
            "count": 1
           },
           {
            "bin_start": 2020,
            "bin_end": 2060,
            "count": 0
           },
           {
            "bin_start": 2060,
            "bin_end": 2100,
            "count": 0
           },
           {
            "bin_start": 2100,
            "bin_end": 2140,
            "count": 0
           },
           {
            "bin_start": 2140,
            "bin_end": 2180,
            "count": 0
           },
           {
            "bin_start": 2180,
            "bin_end": 2220,
            "count": 0
           },
           {
            "bin_start": 2220,
            "bin_end": 2260,
            "count": 0
           },
           {
            "bin_start": 2260,
            "bin_end": 2300,
            "count": 1
           }
          ]
         }
        },
        {
         "name": "province",
         "dtype": "object",
         "stats": {
          "unique_count": 2,
          "nan_count": 0,
          "categories": [
           {
            "name": "Bordeaux",
            "count": 2
           },
           {
            "name": "California",
            "count": 1
           }
          ]
         }
        },
        {
         "name": "region_1",
         "dtype": "object",
         "stats": {
          "unique_count": 3,
          "nan_count": 0,
          "categories": [
           {
            "name": "Arroyo Seco",
            "count": 1
           },
           {
            "name": "Pauillac",
            "count": 1
           },
           {
            "name": "Margaux",
            "count": 1
           }
          ]
         }
        },
        {
         "name": "region_2",
         "dtype": "object",
         "stats": {
          "unique_count": 1,
          "nan_count": 2,
          "categories": [
           {
            "name": "Central Coast",
            "count": 1
           },
           {
            "name": "Missing",
            "count": 2
           }
          ]
         }
        },
        {
         "name": "variety",
         "dtype": "object",
         "stats": {
          "unique_count": 2,
          "nan_count": 0,
          "categories": [
           {
            "name": "Bordeaux-style Red Blend",
            "count": 2
           },
           {
            "name": "Chardonnay",
            "count": 1
           }
          ]
         }
        },
        {
         "name": "winery",
         "dtype": "object",
         "stats": {
          "unique_count": 3,
          "nan_count": 0,
          "categories": [
           {
            "name": "Blair",
            "count": 1
           },
           {
            "name": "Château Latour",
            "count": 1
           },
           {
            "name": "Château Margaux",
            "count": 1
           }
          ]
         }
        },
        {
         "name": "_deepnote_index_column",
         "dtype": "int64"
        }
       ],
       "rows_top": [
        {
         "Unnamed: 0": 13318,
         "country": "US",
         "description": "The nose on this single-vineyard wine from a strong, often overlooked appellation is tight and mine…",
         "designation": "Roger Rose Vineyard",
         "points": 91,
         "price": 2013,
         "province": "California",
         "region_1": "Arroyo Seco",
         "region_2": "Central Coast",
         "variety": "Chardonnay",
         "winery": "Blair",
         "_deepnote_index_column": 13318
        },
        {
         "Unnamed: 0": 34920,
         "country": "France",
         "description": "A big, powerful wine that sums up the richness of the vintage. It is densely fruity, spicy with an …",
         "designation": "nan",
         "points": 99,
         "price": 2300,
         "province": "Bordeaux",
         "region_1": "Pauillac",
         "region_2": "nan",
         "variety": "Bordeaux-style Red Blend",
         "winery": "Château Latour",
         "_deepnote_index_column": 34920
        },
        {
         "Unnamed: 0": 34922,
         "country": "France",
         "description": "A massive wine for Margaux, packed with tannins and ripe fruit. It has more Cabernet Sauvignon than…",
         "designation": "nan",
         "points": 98,
         "price": 1900,
         "province": "Bordeaux",
         "region_1": "Margaux",
         "region_2": "nan",
         "variety": "Bordeaux-style Red Blend",
         "winery": "Château Margaux",
         "_deepnote_index_column": 34922
        }
       ],
       "rows_bottom": null
      },
      "text/plain": "       Unnamed: 0 country                                        description  \\\n13318       13318      US  The nose on this single-vineyard wine from a s...   \n34920       34920  France  A big, powerful wine that sums up the richness...   \n34922       34922  France  A massive wine for Margaux, packed with tannin...   \n\n               designation  points   price    province     region_1  \\\n13318  Roger Rose Vineyard      91  2013.0  California  Arroyo Seco   \n34920                  NaN      99  2300.0    Bordeaux     Pauillac   \n34922                  NaN      98  1900.0    Bordeaux      Margaux   \n\n            region_2                   variety           winery  \n13318  Central Coast                Chardonnay            Blair  \n34920            NaN  Bordeaux-style Red Blend   Château Latour  \n34922            NaN  Bordeaux-style Red Blend  Château Margaux  ",
      "text/html": "<div>\n<style scoped>\n    .dataframe tbody tr th:only-of-type {\n        vertical-align: middle;\n    }\n\n    .dataframe tbody tr th {\n        vertical-align: top;\n    }\n\n    .dataframe thead th {\n        text-align: right;\n    }\n</style>\n<table border=\"1\" class=\"dataframe\">\n  <thead>\n    <tr style=\"text-align: right;\">\n      <th></th>\n      <th>Unnamed: 0</th>\n      <th>country</th>\n      <th>description</th>\n      <th>designation</th>\n      <th>points</th>\n      <th>price</th>\n      <th>province</th>\n      <th>region_1</th>\n      <th>region_2</th>\n      <th>variety</th>\n      <th>winery</th>\n    </tr>\n  </thead>\n  <tbody>\n    <tr>\n      <th>13318</th>\n      <td>13318</td>\n      <td>US</td>\n      <td>The nose on this single-vineyard wine from a s...</td>\n      <td>Roger Rose Vineyard</td>\n      <td>91</td>\n      <td>2013.0</td>\n      <td>California</td>\n      <td>Arroyo Seco</td>\n      <td>Central Coast</td>\n      <td>Chardonnay</td>\n      <td>Blair</td>\n    </tr>\n    <tr>\n      <th>34920</th>\n      <td>34920</td>\n      <td>France</td>\n      <td>A big, powerful wine that sums up the richness...</td>\n      <td>NaN</td>\n      <td>99</td>\n      <td>2300.0</td>\n      <td>Bordeaux</td>\n      <td>Pauillac</td>\n      <td>NaN</td>\n      <td>Bordeaux-style Red Blend</td>\n      <td>Château Latour</td>\n    </tr>\n    <tr>\n      <th>34922</th>\n      <td>34922</td>\n      <td>France</td>\n      <td>A massive wine for Margaux, packed with tannin...</td>\n      <td>NaN</td>\n      <td>98</td>\n      <td>1900.0</td>\n      <td>Bordeaux</td>\n      <td>Margaux</td>\n      <td>NaN</td>\n      <td>Bordeaux-style Red Blend</td>\n      <td>Château Margaux</td>\n    </tr>\n  </tbody>\n</table>\n</div>"
     },
     "metadata": {}
    }
   ]
  },
  {
   "cell_type": "markdown",
   "source": "### KDE Plot",
   "metadata": {
    "tags": [],
    "is_collapsed": false,
    "cell_id": "00037-88095391-f014-447b-92cb-17d9957f3a07",
    "deepnote_cell_type": "text-cell-h3"
   }
  },
  {
   "cell_type": "markdown",
   "source": "This previous information can also be plotted as a KDE Plot. KDE, short for \"kernel density estimate\", is a statistical technique for smoothing out data noise. It addresses an important fundamental weakness of a line chart: it will buff out outlier or \"in-betweener\" values which would cause a line chart to suddenly dip.",
   "metadata": {
    "tags": [],
    "cell_id": "00036-bb142a36-f0bd-4664-a8d5-348b2e2347a6",
    "deepnote_cell_type": "markdown"
   }
  },
  {
   "cell_type": "code",
   "metadata": {
    "tags": [],
    "cell_id": "00034-1e5c872b-c7a1-4666-a33e-5d5ad6df5737",
    "deepnote_to_be_reexecuted": false,
    "source_hash": "bf30e31f",
    "execution_start": 1634407556644,
    "execution_millis": 1597,
    "deepnote_cell_type": "code"
   },
   "source": "sns.kdeplot(df_wine_reviews.query('price < 200').price)",
   "execution_count": 13,
   "outputs": [
    {
     "output_type": "execute_result",
     "execution_count": 13,
     "data": {
      "text/plain": "<AxesSubplot:xlabel='price', ylabel='Density'>"
     },
     "metadata": {}
    },
    {
     "data": {
      "text/plain": "<Figure size 432x288 with 1 Axes>",
      "image/png": "[encoded data removed]"
     },
     "metadata": {
      "image/png": {
       "width": 407,
       "height": 268
      }
     },
     "output_type": "display_data"
    }
   ]
  },
  {
   "cell_type": "markdown",
   "source": "A KDE plot is better than a line chart for getting the \"true shape\" of interval data. In fact, I recommend always using it instead of a line chart for such data.",
   "metadata": {
    "tags": [],
    "cell_id": "00038-4fad2c40-c64b-45d3-a35f-e4ffe473adb2",
    "deepnote_cell_type": "markdown"
   }
  },
  {
   "cell_type": "markdown",
   "source": "### Question 2",
   "metadata": {
    "tags": [],
    "is_collapsed": false,
    "cell_id": "00033-a90e9ba9-d39b-41b1-bfa3-01d2d7e1408a",
    "deepnote_cell_type": "text-cell-h3"
   }
  },
  {
   "cell_type": "markdown",
   "source": "Let's do another exercise. What would the best chart type be for:\n\n- The volume of apples picked at an orchard based on the type of apple (Granny Smith, Fuji, etcetera).\n- The number of points won in all basketball games in a season.\n- The count of apartment buildings in Chicago by the number of individual units.",
   "metadata": {
    "tags": [],
    "cell_id": "00034-6ddbcf05-3083-45c7-beb9-cbc8fc0073f9",
    "deepnote_cell_type": "markdown"
   }
  },
  {
   "cell_type": "markdown",
   "source": "### Bivariate Plotting",
   "metadata": {
    "tags": [],
    "is_collapsed": false,
    "cell_id": "00043-65f40573-195e-4965-a3e0-92a64a7a9a62",
    "deepnote_cell_type": "text-cell-h3"
   }
  },
  {
   "cell_type": "markdown",
   "source": "We explored using pandas to plot and understand relationships within a single column. In this notebook, we'll expand this view by looking at plots that consider two variables at a time.\n\nData without relationships between variables is the data science equivalent of a blank canvas. To paint the picture in, we need to understand how variables interact with one another. Does an increase in one variable correlate with an increase in another? Does it relate to a decrease somewhere else? The best way to paint the picture in is by using plots that enable these possibilities.",
   "metadata": {
    "tags": [],
    "cell_id": "00036-eba1b11c-ee08-4c91-af6b-fd099bf73a51",
    "deepnote_cell_type": "markdown"
   }
  },
  {
   "cell_type": "markdown",
   "source": "### Scatter plot",
   "metadata": {
    "tags": [],
    "is_collapsed": false,
    "cell_id": "00037-4b4bb01a-ae13-45f5-bec3-9f861d9f5804",
    "deepnote_cell_type": "text-cell-h3"
   }
  },
  {
   "cell_type": "markdown",
   "source": "The simplest bivariate plot is the lowly scatter plot. A simple scatter plot simply maps each variable of interest to a point in two-dimensional space. This is the result:",
   "metadata": {
    "tags": [],
    "cell_id": "00038-eb2ad8ba-534c-4986-9b4d-679b91229c79",
    "deepnote_cell_type": "markdown"
   }
  },
  {
   "cell_type": "code",
   "metadata": {
    "tags": [],
    "cell_id": "00039-97415020-fa99-40ab-a717-0886c4d07493",
    "deepnote_to_be_reexecuted": false,
    "source_hash": "c2aa7522",
    "execution_start": 1634407558248,
    "execution_millis": 566,
    "deepnote_cell_type": "code"
   },
   "source": "df_wine_reviews[df_wine_reviews['price'] < 100].sample(100).plot.scatter(x='price', y='points');",
   "execution_count": 14,
   "outputs": [
    {
     "name": "stderr",
     "text": "*c* argument looks like a single numeric RGB or RGBA sequence, which should be avoided as value-mapping will have precedence in case its length matches with *x* & *y*.  Please use the *color* keyword-argument or provide a 2D array with a single row if you intend to specify the same RGB or RGBA value for all points.\n",
     "output_type": "stream"
    },
    {
     "data": {
      "text/plain": "<Figure size 432x288 with 1 Axes>",
      "image/png": "[encoded data removed]"
     },
     "metadata": {
      "image/png": {
       "width": 389,
       "height": 268
      }
     },
     "output_type": "display_data"
    }
   ]
  },
  {
   "cell_type": "markdown",
   "source": "This plot shows us that price and points are weakly correlated: that is, that more expensive wines do generally earn more points when reviewed.\n\nNote that in order to make effective use of this plot, we had to downsample our data, taking just 100 points from the full set. This is because naive scatter plots do not effectively treat points which map to the same place. For example, if two wines, both costing 100 dollars, get a rating of 90, then the second one is overplotted onto the first one, and we add just one point to the plot.\n\nThis isn't a problem if it happens just a few times. But with enough points the distribution starts to look like a shapeless blob, and you lose the forest for the trees:",
   "metadata": {
    "tags": [],
    "cell_id": "00040-ac563916-26aa-426c-8cc4-b758cfcbfc91",
    "deepnote_cell_type": "markdown"
   }
  },
  {
   "cell_type": "code",
   "metadata": {
    "tags": [],
    "cell_id": "00041-a283d75c-fdd6-43a6-891d-a454d4df7621",
    "deepnote_to_be_reexecuted": false,
    "source_hash": "1b448386",
    "execution_start": 1634407558788,
    "execution_millis": 969,
    "deepnote_cell_type": "code"
   },
   "source": "df_wine_reviews[df_wine_reviews['price'] < 100].plot.scatter(x='price', y='points')",
   "execution_count": 15,
   "outputs": [
    {
     "name": "stderr",
     "text": "*c* argument looks like a single numeric RGB or RGBA sequence, which should be avoided as value-mapping will have precedence in case its length matches with *x* & *y*.  Please use the *color* keyword-argument or provide a 2D array with a single row if you intend to specify the same RGB or RGBA value for all points.\n",
     "output_type": "stream"
    },
    {
     "output_type": "execute_result",
     "execution_count": 15,
     "data": {
      "text/plain": "<AxesSubplot:xlabel='price', ylabel='points'>"
     },
     "metadata": {}
    },
    {
     "data": {
      "text/plain": "<Figure size 432x288 with 1 Axes>",
      "image/png": "[encoded data removed]"
     },
     "metadata": {
      "image/png": {
       "width": 407,
       "height": 268
      }
     },
     "output_type": "display_data"
    }
   ]
  },
  {
   "cell_type": "markdown",
   "source": "### Hexplot",
   "metadata": {
    "tags": [],
    "is_collapsed": false,
    "cell_id": "00050-12624b71-2088-485f-ace2-2a58cfe8a0c7",
    "deepnote_cell_type": "text-cell-h3"
   }
  },
  {
   "cell_type": "markdown",
   "source": "A hex plot aggregates points in space into hexagons, and then colors those hexagons based on the values within them:",
   "metadata": {
    "tags": [],
    "cell_id": "00043-72967436-af77-4b84-9053-2c2f88fac95b",
    "deepnote_cell_type": "markdown"
   }
  },
  {
   "cell_type": "code",
   "metadata": {
    "tags": [],
    "cell_id": "00044-e6f5ec07-09ef-4780-9500-4c6d9b276e66",
    "deepnote_to_be_reexecuted": false,
    "source_hash": "eabf7d68",
    "execution_start": 1634407559756,
    "execution_millis": 2198,
    "deepnote_cell_type": "code"
   },
   "source": "df_wine_reviews_short_1 = df_wine_reviews[df_wine_reviews['price'] < 100]\nsns.jointplot(data=df_wine_reviews_short_1, x='price', y='points', kind=\"hex\")",
   "execution_count": 16,
   "outputs": [
    {
     "output_type": "execute_result",
     "execution_count": 16,
     "data": {
      "text/plain": "<seaborn.axisgrid.JointGrid at 0x7efc68e89890>"
     },
     "metadata": {}
    },
    {
     "data": {
      "text/plain": "<Figure size 432x432 with 3 Axes>",
      "image/png": "[encoded data removed]"
     },
     "metadata": {
      "image/png": {
       "width": 434,
       "height": 420
      }
     },
     "output_type": "display_data"
    }
   ]
  },
  {
   "cell_type": "markdown",
   "source": "\nThe data in this plot is directly comparable with that in the scatter plot from earlier, but the story it tells us is very different. From this hexplot we can see that the bottles of wine reviewed by Wine Magazine cluster around 87.5 points and around $20.\n\nWe did not see this effect by looking at the scatter plot, because too many similarly-priced, similarly-scoring wines were overplotted. By doing away with this problem, this hexplot presents us a much more useful view of the dataset.\n\nHexplots and scatter plots can by applied to combinations of interval variables and/or ordinal categorical variables.",
   "metadata": {
    "tags": [],
    "cell_id": "00045-4c3c70ce-a30a-4b6a-8852-109d9f446ad4",
    "deepnote_cell_type": "markdown"
   }
  },
  {
   "cell_type": "markdown",
   "source": "### Bivariate KDE Plot",
   "metadata": {
    "tags": [],
    "is_collapsed": false,
    "cell_id": "00054-c0f9e74d-2179-4a68-993f-4babd91e9d4b",
    "deepnote_cell_type": "text-cell-h3"
   }
  },
  {
   "cell_type": "markdown",
   "source": "KDE plots can also be used in two dimensions. Bivariate KDE plots like this one are a great alternative to scatter plots and hex plots. They solve the same data overplotting issue that scatter plots suffer from and hex plots address, in a different but similarly visually appealing. However, note that bivariate KDE plots are very computationally intensive. We took a sample of 5000 points in this example to keep compute time reasonable.",
   "metadata": {
    "tags": [],
    "cell_id": "00054-1f20538f-c52b-4864-839f-27e383a2ef9d",
    "deepnote_cell_type": "markdown"
   }
  },
  {
   "cell_type": "code",
   "metadata": {
    "tags": [],
    "cell_id": "00055-2404d221-97cd-4026-b2fe-8f86954306f2",
    "deepnote_to_be_reexecuted": false,
    "source_hash": "d07c178c",
    "execution_start": 1634407562008,
    "execution_millis": 116,
    "deepnote_cell_type": "code"
   },
   "source": "df_wine_reviews_short_2 = df_wine_reviews[df_wine_reviews['price'] < 200].loc[:, ['price', 'points']].dropna().sample(5000)\ndf_wine_reviews_short_2",
   "execution_count": 17,
   "outputs": [
    {
     "output_type": "execute_result",
     "execution_count": 17,
     "data": {
      "application/vnd.deepnote.dataframe.v2+json": {
       "row_count": 5000,
       "column_count": 2,
       "columns": [
        {
         "name": "price",
         "dtype": "float64",
         "stats": {
          "unique_count": 126,
          "nan_count": 0,
          "min": "4.0",
          "max": "198.0",
          "histogram": [
           {
            "bin_start": 4,
            "bin_end": 23.4,
            "count": 2406
           },
           {
            "bin_start": 23.4,
            "bin_end": 42.8,
            "count": 1483
           },
           {
            "bin_start": 42.8,
            "bin_end": 62.199999999999996,
            "count": 675
           },
           {
            "bin_start": 62.199999999999996,
            "bin_end": 81.6,
            "count": 223
           },
           {
            "bin_start": 81.6,
            "bin_end": 101,
            "count": 118
           },
           {
            "bin_start": 101,
            "bin_end": 120.39999999999999,
            "count": 42
           },
           {
            "bin_start": 120.39999999999999,
            "bin_end": 139.79999999999998,
            "count": 24
           },
           {
            "bin_start": 139.79999999999998,
            "bin_end": 159.2,
            "count": 16
           },
           {
            "bin_start": 159.2,
            "bin_end": 178.6,
            "count": 8
           },
           {
            "bin_start": 178.6,
            "bin_end": 198,
            "count": 5
           }
          ]
         }
        },
        {
         "name": "points",
         "dtype": "int64",
         "stats": {
          "unique_count": 21,
          "nan_count": 0,
          "min": "80",
          "max": "100",
          "histogram": [
           {
            "bin_start": 80,
            "bin_end": 82,
            "count": 74
           },
           {
            "bin_start": 82,
            "bin_end": 84,
            "count": 333
           },
           {
            "bin_start": 84,
            "bin_end": 86,
            "count": 850
           },
           {
            "bin_start": 86,
            "bin_end": 88,
            "count": 1173
           },
           {
            "bin_start": 88,
            "bin_end": 90,
            "count": 1018
           },
           {
            "bin_start": 90,
            "bin_end": 92,
            "count": 893
           },
           {
            "bin_start": 92,
            "bin_end": 94,
            "count": 467
           },
           {
            "bin_start": 94,
            "bin_end": 96,
            "count": 155
           },
           {
            "bin_start": 96,
            "bin_end": 98,
            "count": 30
           },
           {
            "bin_start": 98,
            "bin_end": 100,
            "count": 7
           }
          ]
         }
        },
        {
         "name": "_deepnote_index_column",
         "dtype": "int64"
        }
       ],
       "rows_top": [
        {
         "price": 8,
         "points": 88,
         "_deepnote_index_column": 148875
        },
        {
         "price": 30,
         "points": 83,
         "_deepnote_index_column": 89841
        },
        {
         "price": 13,
         "points": 85,
         "_deepnote_index_column": 104373
        },
        {
         "price": 24,
         "points": 87,
         "_deepnote_index_column": 73976
        },
        {
         "price": 20,
         "points": 82,
         "_deepnote_index_column": 135407
        },
        {
         "price": 50,
         "points": 90,
         "_deepnote_index_column": 69137
        },
        {
         "price": 65,
         "points": 94,
         "_deepnote_index_column": 139203
        },
        {
         "price": 32,
         "points": 85,
         "_deepnote_index_column": 14347
        },
        {
         "price": 50,
         "points": 83,
         "_deepnote_index_column": 55465
        },
        {
         "price": 20,
         "points": 88,
         "_deepnote_index_column": 101902
        },
        {
         "price": 44,
         "points": 88,
         "_deepnote_index_column": 135386
        },
        {
         "price": 27,
         "points": 89,
         "_deepnote_index_column": 133724
        },
        {
         "price": 45,
         "points": 90,
         "_deepnote_index_column": 108591
        },
        {
         "price": 20,
         "points": 91,
         "_deepnote_index_column": 72921
        },
        {
         "price": 50,
         "points": 94,
         "_deepnote_index_column": 21611
        },
        {
         "price": 29,
         "points": 89,
         "_deepnote_index_column": 123160
        },
        {
         "price": 56,
         "points": 91,
         "_deepnote_index_column": 87223
        },
        {
         "price": 17,
         "points": 87,
         "_deepnote_index_column": 132108
        },
        {
         "price": 75,
         "points": 89,
         "_deepnote_index_column": 97086
        },
        {
         "price": 16,
         "points": 91,
         "_deepnote_index_column": 100797
        },
        {
         "price": 25,
         "points": 87,
         "_deepnote_index_column": 66588
        },
        {
         "price": 10,
         "points": 80,
         "_deepnote_index_column": 121229
        },
        {
         "price": 40,
         "points": 91,
         "_deepnote_index_column": 27615
        },
        {
         "price": 12,
         "points": 84,
         "_deepnote_index_column": 111596
        },
        {
         "price": 13,
         "points": 85,
         "_deepnote_index_column": 78739
        },
        {
         "price": 13,
         "points": 80,
         "_deepnote_index_column": 127484
        },
        {
         "price": 30,
         "points": 93,
         "_deepnote_index_column": 104304
        },
        {
         "price": 27,
         "points": 88,
         "_deepnote_index_column": 131544
        },
        {
         "price": 22,
         "points": 87,
         "_deepnote_index_column": 41966
        },
        {
         "price": 39,
         "points": 88,
         "_deepnote_index_column": 2499
        },
        {
         "price": 22,
         "points": 84,
         "_deepnote_index_column": 147970
        },
        {
         "price": 19,
         "points": 87,
         "_deepnote_index_column": 89157
        },
        {
         "price": 34,
         "points": 86,
         "_deepnote_index_column": 117545
        },
        {
         "price": 24,
         "points": 87,
         "_deepnote_index_column": 3743
        },
        {
         "price": 30,
         "points": 91,
         "_deepnote_index_column": 93120
        },
        {
         "price": 10,
         "points": 88,
         "_deepnote_index_column": 130992
        },
        {
         "price": 10,
         "points": 89,
         "_deepnote_index_column": 131808
        },
        {
         "price": 14,
         "points": 87,
         "_deepnote_index_column": 140391
        },
        {
         "price": 10,
         "points": 85,
         "_deepnote_index_column": 26152
        },
        {
         "price": 19,
         "points": 87,
         "_deepnote_index_column": 127229
        },
        {
         "price": 12,
         "points": 85,
         "_deepnote_index_column": 11048
        },
        {
         "price": 15,
         "points": 90,
         "_deepnote_index_column": 131888
        },
        {
         "price": 11,
         "points": 86,
         "_deepnote_index_column": 143589
        },
        {
         "price": 9,
         "points": 86,
         "_deepnote_index_column": 127038
        },
        {
         "price": 70,
         "points": 90,
         "_deepnote_index_column": 88711
        },
        {
         "price": 19,
         "points": 87,
         "_deepnote_index_column": 91871
        },
        {
         "price": 12,
         "points": 87,
         "_deepnote_index_column": 78467
        },
        {
         "price": 16,
         "points": 89,
         "_deepnote_index_column": 66908
        },
        {
         "price": 17,
         "points": 85,
         "_deepnote_index_column": 106869
        },
        {
         "price": 56,
         "points": 89,
         "_deepnote_index_column": 87179
        },
        {
         "price": 26,
         "points": 90,
         "_deepnote_index_column": 101384
        },
        {
         "price": 30,
         "points": 93,
         "_deepnote_index_column": 57282
        },
        {
         "price": 24,
         "points": 89,
         "_deepnote_index_column": 50453
        },
        {
         "price": 19,
         "points": 91,
         "_deepnote_index_column": 37909
        },
        {
         "price": 16,
         "points": 86,
         "_deepnote_index_column": 80464
        },
        {
         "price": 37,
         "points": 92,
         "_deepnote_index_column": 72331
        },
        {
         "price": 25,
         "points": 92,
         "_deepnote_index_column": 61654
        },
        {
         "price": 13,
         "points": 86,
         "_deepnote_index_column": 92293
        },
        {
         "price": 20,
         "points": 85,
         "_deepnote_index_column": 90675
        },
        {
         "price": 40,
         "points": 93,
         "_deepnote_index_column": 6947
        },
        {
         "price": 16,
         "points": 83,
         "_deepnote_index_column": 100586
        },
        {
         "price": 19,
         "points": 88,
         "_deepnote_index_column": 14157
        },
        {
         "price": 75,
         "points": 93,
         "_deepnote_index_column": 11376
        },
        {
         "price": 55,
         "points": 95,
         "_deepnote_index_column": 10863
        },
        {
         "price": 21,
         "points": 88,
         "_deepnote_index_column": 78403
        },
        {
         "price": 23,
         "points": 91,
         "_deepnote_index_column": 38823
        },
        {
         "price": 10,
         "points": 87,
         "_deepnote_index_column": 63921
        },
        {
         "price": 38,
         "points": 88,
         "_deepnote_index_column": 57973
        },
        {
         "price": 115,
         "points": 89,
         "_deepnote_index_column": 31189
        },
        {
         "price": 175,
         "points": 89,
         "_deepnote_index_column": 13508
        },
        {
         "price": 40,
         "points": 87,
         "_deepnote_index_column": 8161
        },
        {
         "price": 28,
         "points": 89,
         "_deepnote_index_column": 15280
        },
        {
         "price": 12,
         "points": 87,
         "_deepnote_index_column": 83927
        },
        {
         "price": 14,
         "points": 86,
         "_deepnote_index_column": 110270
        },
        {
         "price": 30,
         "points": 85,
         "_deepnote_index_column": 97194
        },
        {
         "price": 20,
         "points": 90,
         "_deepnote_index_column": 148698
        },
        {
         "price": 105,
         "points": 95,
         "_deepnote_index_column": 87434
        },
        {
         "price": 42,
         "points": 89,
         "_deepnote_index_column": 145430
        },
        {
         "price": 20,
         "points": 90,
         "_deepnote_index_column": 71235
        },
        {
         "price": 80,
         "points": 92,
         "_deepnote_index_column": 47953
        },
        {
         "price": 33,
         "points": 87,
         "_deepnote_index_column": 41642
        },
        {
         "price": 22,
         "points": 87,
         "_deepnote_index_column": 72473
        },
        {
         "price": 34,
         "points": 86,
         "_deepnote_index_column": 63312
        },
        {
         "price": 34,
         "points": 92,
         "_deepnote_index_column": 119725
        },
        {
         "price": 40,
         "points": 86,
         "_deepnote_index_column": 29065
        },
        {
         "price": 48,
         "points": 89,
         "_deepnote_index_column": 3300
        },
        {
         "price": 10,
         "points": 85,
         "_deepnote_index_column": 81654
        },
        {
         "price": 35,
         "points": 90,
         "_deepnote_index_column": 87010
        },
        {
         "price": 195,
         "points": 100,
         "_deepnote_index_column": 78004
        },
        {
         "price": 40,
         "points": 90,
         "_deepnote_index_column": 97336
        },
        {
         "price": 20,
         "points": 84,
         "_deepnote_index_column": 27727
        },
        {
         "price": 40,
         "points": 91,
         "_deepnote_index_column": 72488
        },
        {
         "price": 110,
         "points": 94,
         "_deepnote_index_column": 24215
        },
        {
         "price": 30,
         "points": 86,
         "_deepnote_index_column": 8673
        },
        {
         "price": 80,
         "points": 86,
         "_deepnote_index_column": 112940
        },
        {
         "price": 19,
         "points": 87,
         "_deepnote_index_column": 111467
        },
        {
         "price": 30,
         "points": 88,
         "_deepnote_index_column": 57375
        },
        {
         "price": 14,
         "points": 87,
         "_deepnote_index_column": 80162
        },
        {
         "price": 84,
         "points": 93,
         "_deepnote_index_column": 11304
        },
        {
         "price": 28,
         "points": 84,
         "_deepnote_index_column": 126696
        },
        {
         "price": 17,
         "points": 90,
         "_deepnote_index_column": 122099
        },
        {
         "price": 45,
         "points": 90,
         "_deepnote_index_column": 83401
        },
        {
         "price": 35,
         "points": 88,
         "_deepnote_index_column": 51526
        },
        {
         "price": 39,
         "points": 86,
         "_deepnote_index_column": 144471
        },
        {
         "price": 23,
         "points": 85,
         "_deepnote_index_column": 10393
        },
        {
         "price": 25,
         "points": 89,
         "_deepnote_index_column": 124125
        },
        {
         "price": 34,
         "points": 91,
         "_deepnote_index_column": 9113
        },
        {
         "price": 13,
         "points": 86,
         "_deepnote_index_column": 13817
        },
        {
         "price": 17,
         "points": 85,
         "_deepnote_index_column": 49055
        },
        {
         "price": 13,
         "points": 87,
         "_deepnote_index_column": 111763
        },
        {
         "price": 25,
         "points": 91,
         "_deepnote_index_column": 138020
        },
        {
         "price": 12,
         "points": 87,
         "_deepnote_index_column": 111401
        },
        {
         "price": 67,
         "points": 91,
         "_deepnote_index_column": 114185
        },
        {
         "price": 40,
         "points": 88,
         "_deepnote_index_column": 17703
        },
        {
         "price": 35,
         "points": 87,
         "_deepnote_index_column": 25574
        },
        {
         "price": 60,
         "points": 90,
         "_deepnote_index_column": 106729
        },
        {
         "price": 18,
         "points": 84,
         "_deepnote_index_column": 89304
        },
        {
         "price": 12,
         "points": 89,
         "_deepnote_index_column": 144037
        },
        {
         "price": 24,
         "points": 88,
         "_deepnote_index_column": 48125
        },
        {
         "price": 83,
         "points": 93,
         "_deepnote_index_column": 18784
        },
        {
         "price": 30,
         "points": 88,
         "_deepnote_index_column": 70409
        },
        {
         "price": 12,
         "points": 84,
         "_deepnote_index_column": 16563
        },
        {
         "price": 11,
         "points": 85,
         "_deepnote_index_column": 113043
        },
        {
         "price": 80,
         "points": 93,
         "_deepnote_index_column": 142839
        },
        {
         "price": 30,
         "points": 86,
         "_deepnote_index_column": 134626
        },
        {
         "price": 12,
         "points": 86,
         "_deepnote_index_column": 63281
        },
        {
         "price": 33,
         "points": 90,
         "_deepnote_index_column": 85236
        },
        {
         "price": 22,
         "points": 91,
         "_deepnote_index_column": 75876
        },
        {
         "price": 20,
         "points": 89,
         "_deepnote_index_column": 133756
        },
        {
         "price": 57,
         "points": 91,
         "_deepnote_index_column": 72706
        },
        {
         "price": 24,
         "points": 81,
         "_deepnote_index_column": 47121
        },
        {
         "price": 15,
         "points": 86,
         "_deepnote_index_column": 34264
        },
        {
         "price": 11,
         "points": 86,
         "_deepnote_index_column": 98736
        },
        {
         "price": 16,
         "points": 84,
         "_deepnote_index_column": 27361
        },
        {
         "price": 10,
         "points": 85,
         "_deepnote_index_column": 61449
        },
        {
         "price": 154,
         "points": 93,
         "_deepnote_index_column": 84720
        },
        {
         "price": 30,
         "points": 89,
         "_deepnote_index_column": 124897
        },
        {
         "price": 42,
         "points": 91,
         "_deepnote_index_column": 87099
        },
        {
         "price": 13,
         "points": 84,
         "_deepnote_index_column": 75935
        },
        {
         "price": 25,
         "points": 84,
         "_deepnote_index_column": 35888
        },
        {
         "price": 25,
         "points": 89,
         "_deepnote_index_column": 9051
        },
        {
         "price": 38,
         "points": 87,
         "_deepnote_index_column": 147304
        },
        {
         "price": 70,
         "points": 93,
         "_deepnote_index_column": 76788
        },
        {
         "price": 25,
         "points": 87,
         "_deepnote_index_column": 114791
        },
        {
         "price": 60,
         "points": 92,
         "_deepnote_index_column": 41400
        },
        {
         "price": 20,
         "points": 89,
         "_deepnote_index_column": 30844
        },
        {
         "price": 22,
         "points": 85,
         "_deepnote_index_column": 107193
        },
        {
         "price": 22,
         "points": 84,
         "_deepnote_index_column": 135824
        },
        {
         "price": 25,
         "points": 89,
         "_deepnote_index_column": 109771
        },
        {
         "price": 35,
         "points": 89,
         "_deepnote_index_column": 55891
        },
        {
         "price": 38,
         "points": 91,
         "_deepnote_index_column": 24640
        },
        {
         "price": 65,
         "points": 88,
         "_deepnote_index_column": 27770
        },
        {
         "price": 11,
         "points": 84,
         "_deepnote_index_column": 17733
        },
        {
         "price": 18,
         "points": 88,
         "_deepnote_index_column": 71154
        },
        {
         "price": 20,
         "points": 87,
         "_deepnote_index_column": 101220
        },
        {
         "price": 16,
         "points": 87,
         "_deepnote_index_column": 7377
        },
        {
         "price": 18,
         "points": 87,
         "_deepnote_index_column": 93703
        },
        {
         "price": 45,
         "points": 93,
         "_deepnote_index_column": 40149
        },
        {
         "price": 15,
         "points": 87,
         "_deepnote_index_column": 18202
        },
        {
         "price": 24,
         "points": 81,
         "_deepnote_index_column": 103900
        },
        {
         "price": 28,
         "points": 85,
         "_deepnote_index_column": 118920
        },
        {
         "price": 22,
         "points": 88,
         "_deepnote_index_column": 2190
        },
        {
         "price": 80,
         "points": 90,
         "_deepnote_index_column": 79777
        },
        {
         "price": 9,
         "points": 85,
         "_deepnote_index_column": 116868
        },
        {
         "price": 47,
         "points": 91,
         "_deepnote_index_column": 86715
        },
        {
         "price": 42,
         "points": 90,
         "_deepnote_index_column": 40694
        },
        {
         "price": 72,
         "points": 92,
         "_deepnote_index_column": 126463
        },
        {
         "price": 65,
         "points": 88,
         "_deepnote_index_column": 50933
        },
        {
         "price": 24,
         "points": 83,
         "_deepnote_index_column": 118473
        },
        {
         "price": 30,
         "points": 90,
         "_deepnote_index_column": 124294
        },
        {
         "price": 45,
         "points": 92,
         "_deepnote_index_column": 52323
        },
        {
         "price": 12,
         "points": 90,
         "_deepnote_index_column": 10948
        },
        {
         "price": 19,
         "points": 90,
         "_deepnote_index_column": 117000
        },
        {
         "price": 35,
         "points": 91,
         "_deepnote_index_column": 138709
        },
        {
         "price": 32,
         "points": 88,
         "_deepnote_index_column": 142275
        },
        {
         "price": 17,
         "points": 87,
         "_deepnote_index_column": 8039
        },
        {
         "price": 20,
         "points": 86,
         "_deepnote_index_column": 15699
        },
        {
         "price": 17,
         "points": 87,
         "_deepnote_index_column": 57349
        },
        {
         "price": 26,
         "points": 90,
         "_deepnote_index_column": 144721
        },
        {
         "price": 60,
         "points": 90,
         "_deepnote_index_column": 75497
        },
        {
         "price": 40,
         "points": 92,
         "_deepnote_index_column": 109102
        },
        {
         "price": 59,
         "points": 92,
         "_deepnote_index_column": 19644
        },
        {
         "price": 50,
         "points": 93,
         "_deepnote_index_column": 11815
        },
        {
         "price": 60,
         "points": 92,
         "_deepnote_index_column": 12772
        },
        {
         "price": 60,
         "points": 89,
         "_deepnote_index_column": 3834
        },
        {
         "price": 20,
         "points": 89,
         "_deepnote_index_column": 84312
        },
        {
         "price": 22,
         "points": 90,
         "_deepnote_index_column": 97033
        },
        {
         "price": 65,
         "points": 92,
         "_deepnote_index_column": 24458
        },
        {
         "price": 19,
         "points": 87,
         "_deepnote_index_column": 131610
        },
        {
         "price": 70,
         "points": 91,
         "_deepnote_index_column": 12841
        },
        {
         "price": 17,
         "points": 91,
         "_deepnote_index_column": 11624
        },
        {
         "price": 28,
         "points": 86,
         "_deepnote_index_column": 99655
        },
        {
         "price": 11,
         "points": 88,
         "_deepnote_index_column": 99787
        },
        {
         "price": 45,
         "points": 94,
         "_deepnote_index_column": 3936
        },
        {
         "price": 15,
         "points": 90,
         "_deepnote_index_column": 91794
        },
        {
         "price": 18,
         "points": 85,
         "_deepnote_index_column": 50787
        },
        {
         "price": 18,
         "points": 82,
         "_deepnote_index_column": 96475
        },
        {
         "price": 11,
         "points": 81,
         "_deepnote_index_column": 136731
        },
        {
         "price": 8,
         "points": 82,
         "_deepnote_index_column": 97842
        },
        {
         "price": 52,
         "points": 86,
         "_deepnote_index_column": 110275
        },
        {
         "price": 55,
         "points": 90,
         "_deepnote_index_column": 22272
        },
        {
         "price": 18,
         "points": 87,
         "_deepnote_index_column": 133407
        },
        {
         "price": 110,
         "points": 89,
         "_deepnote_index_column": 66945
        },
        {
         "price": 18,
         "points": 89,
         "_deepnote_index_column": 69444
        },
        {
         "price": 70,
         "points": 90,
         "_deepnote_index_column": 80371
        },
        {
         "price": 17,
         "points": 84,
         "_deepnote_index_column": 142389
        },
        {
         "price": 10,
         "points": 83,
         "_deepnote_index_column": 93775
        },
        {
         "price": 22,
         "points": 90,
         "_deepnote_index_column": 57856
        },
        {
         "price": 10,
         "points": 83,
         "_deepnote_index_column": 93328
        },
        {
         "price": 17,
         "points": 85,
         "_deepnote_index_column": 6126
        },
        {
         "price": 25,
         "points": 84,
         "_deepnote_index_column": 42165
        },
        {
         "price": 70,
         "points": 88,
         "_deepnote_index_column": 49993
        },
        {
         "price": 19,
         "points": 87,
         "_deepnote_index_column": 63595
        },
        {
         "price": 20,
         "points": 86,
         "_deepnote_index_column": 10129
        },
        {
         "price": 55,
         "points": 93,
         "_deepnote_index_column": 55858
        },
        {
         "price": 9,
         "points": 82,
         "_deepnote_index_column": 92131
        },
        {
         "price": 25,
         "points": 91,
         "_deepnote_index_column": 42557
        },
        {
         "price": 18,
         "points": 87,
         "_deepnote_index_column": 51251
        },
        {
         "price": 42,
         "points": 91,
         "_deepnote_index_column": 107765
        },
        {
         "price": 85,
         "points": 95,
         "_deepnote_index_column": 106551
        },
        {
         "price": 17,
         "points": 86,
         "_deepnote_index_column": 49492
        },
        {
         "price": 60,
         "points": 88,
         "_deepnote_index_column": 97145
        },
        {
         "price": 18,
         "points": 89,
         "_deepnote_index_column": 28205
        },
        {
         "price": 77,
         "points": 93,
         "_deepnote_index_column": 37040
        },
        {
         "price": 48,
         "points": 85,
         "_deepnote_index_column": 70698
        },
        {
         "price": 16,
         "points": 85,
         "_deepnote_index_column": 9238
        },
        {
         "price": 20,
         "points": 88,
         "_deepnote_index_column": 44881
        },
        {
         "price": 9,
         "points": 84,
         "_deepnote_index_column": 144008
        },
        {
         "price": 45,
         "points": 92,
         "_deepnote_index_column": 122157
        },
        {
         "price": 15,
         "points": 87,
         "_deepnote_index_column": 40190
        },
        {
         "price": 14,
         "points": 83,
         "_deepnote_index_column": 119061
        },
        {
         "price": 40,
         "points": 92,
         "_deepnote_index_column": 12069
        },
        {
         "price": 22,
         "points": 90,
         "_deepnote_index_column": 15610
        },
        {
         "price": 40,
         "points": 90,
         "_deepnote_index_column": 76731
        },
        {
         "price": 40,
         "points": 91,
         "_deepnote_index_column": 61665
        },
        {
         "price": 19,
         "points": 88,
         "_deepnote_index_column": 146995
        },
        {
         "price": 48,
         "points": 88,
         "_deepnote_index_column": 51719
        },
        {
         "price": 18,
         "points": 83,
         "_deepnote_index_column": 89838
        },
        {
         "price": 14,
         "points": 86,
         "_deepnote_index_column": 59418
        },
        {
         "price": 10,
         "points": 84,
         "_deepnote_index_column": 147562
        },
        {
         "price": 19,
         "points": 91,
         "_deepnote_index_column": 138782
        },
        {
         "price": 12,
         "points": 84,
         "_deepnote_index_column": 69687
        },
        {
         "price": 105,
         "points": 95,
         "_deepnote_index_column": 68374
        },
        {
         "price": 9,
         "points": 86,
         "_deepnote_index_column": 63306
        },
        {
         "price": 8,
         "points": 80,
         "_deepnote_index_column": 20814
        },
        {
         "price": 20,
         "points": 84,
         "_deepnote_index_column": 129577
        },
        {
         "price": 25,
         "points": 82,
         "_deepnote_index_column": 136203
        },
        {
         "price": 15,
         "points": 84,
         "_deepnote_index_column": 140568
        },
        {
         "price": 20,
         "points": 83,
         "_deepnote_index_column": 46308
        },
        {
         "price": 21,
         "points": 88,
         "_deepnote_index_column": 62063
        }
       ],
       "rows_bottom": [
        {
         "price": 20,
         "points": 88,
         "_deepnote_index_column": 114872
        },
        {
         "price": 25,
         "points": 87,
         "_deepnote_index_column": 23515
        },
        {
         "price": 40,
         "points": 89,
         "_deepnote_index_column": 130487
        },
        {
         "price": 25,
         "points": 90,
         "_deepnote_index_column": 28716
        },
        {
         "price": 18,
         "points": 84,
         "_deepnote_index_column": 36696
        },
        {
         "price": 18,
         "points": 91,
         "_deepnote_index_column": 11310
        },
        {
         "price": 30,
         "points": 90,
         "_deepnote_index_column": 61864
        },
        {
         "price": 39,
         "points": 85,
         "_deepnote_index_column": 94971
        },
        {
         "price": 20,
         "points": 87,
         "_deepnote_index_column": 92778
        },
        {
         "price": 15,
         "points": 83,
         "_deepnote_index_column": 23652
        },
        {
         "price": 33,
         "points": 87,
         "_deepnote_index_column": 14474
        },
        {
         "price": 15,
         "points": 87,
         "_deepnote_index_column": 11712
        },
        {
         "price": 34,
         "points": 90,
         "_deepnote_index_column": 44644
        },
        {
         "price": 15,
         "points": 84,
         "_deepnote_index_column": 133959
        },
        {
         "price": 38,
         "points": 95,
         "_deepnote_index_column": 2735
        },
        {
         "price": 25,
         "points": 90,
         "_deepnote_index_column": 85377
        },
        {
         "price": 30,
         "points": 88,
         "_deepnote_index_column": 3203
        },
        {
         "price": 20,
         "points": 83,
         "_deepnote_index_column": 92324
        },
        {
         "price": 19,
         "points": 87,
         "_deepnote_index_column": 37643
        },
        {
         "price": 36,
         "points": 88,
         "_deepnote_index_column": 71094
        },
        {
         "price": 12,
         "points": 84,
         "_deepnote_index_column": 118523
        },
        {
         "price": 28,
         "points": 85,
         "_deepnote_index_column": 53350
        },
        {
         "price": 10,
         "points": 82,
         "_deepnote_index_column": 92648
        },
        {
         "price": 12,
         "points": 85,
         "_deepnote_index_column": 39451
        },
        {
         "price": 20,
         "points": 88,
         "_deepnote_index_column": 25078
        },
        {
         "price": 19,
         "points": 87,
         "_deepnote_index_column": 41750
        },
        {
         "price": 22,
         "points": 88,
         "_deepnote_index_column": 44810
        },
        {
         "price": 33,
         "points": 91,
         "_deepnote_index_column": 37613
        },
        {
         "price": 50,
         "points": 91,
         "_deepnote_index_column": 91189
        },
        {
         "price": 20,
         "points": 87,
         "_deepnote_index_column": 57919
        },
        {
         "price": 19,
         "points": 87,
         "_deepnote_index_column": 76889
        },
        {
         "price": 45,
         "points": 90,
         "_deepnote_index_column": 83115
        },
        {
         "price": 35,
         "points": 92,
         "_deepnote_index_column": 8634
        },
        {
         "price": 70,
         "points": 92,
         "_deepnote_index_column": 18861
        },
        {
         "price": 28,
         "points": 89,
         "_deepnote_index_column": 130667
        },
        {
         "price": 25,
         "points": 87,
         "_deepnote_index_column": 79917
        },
        {
         "price": 25,
         "points": 85,
         "_deepnote_index_column": 44707
        },
        {
         "price": 15,
         "points": 84,
         "_deepnote_index_column": 134324
        },
        {
         "price": 60,
         "points": 93,
         "_deepnote_index_column": 13146
        },
        {
         "price": 35,
         "points": 87,
         "_deepnote_index_column": 103074
        },
        {
         "price": 50,
         "points": 85,
         "_deepnote_index_column": 743
        },
        {
         "price": 17,
         "points": 86,
         "_deepnote_index_column": 74533
        },
        {
         "price": 12,
         "points": 86,
         "_deepnote_index_column": 140978
        },
        {
         "price": 30,
         "points": 85,
         "_deepnote_index_column": 133445
        },
        {
         "price": 195,
         "points": 90,
         "_deepnote_index_column": 49467
        },
        {
         "price": 13,
         "points": 83,
         "_deepnote_index_column": 27959
        },
        {
         "price": 20,
         "points": 85,
         "_deepnote_index_column": 109339
        },
        {
         "price": 100,
         "points": 90,
         "_deepnote_index_column": 112200
        },
        {
         "price": 18,
         "points": 90,
         "_deepnote_index_column": 82348
        },
        {
         "price": 16,
         "points": 86,
         "_deepnote_index_column": 43362
        },
        {
         "price": 115,
         "points": 93,
         "_deepnote_index_column": 12718
        },
        {
         "price": 50,
         "points": 94,
         "_deepnote_index_column": 10312
        },
        {
         "price": 19,
         "points": 88,
         "_deepnote_index_column": 4826
        },
        {
         "price": 90,
         "points": 91,
         "_deepnote_index_column": 32588
        },
        {
         "price": 18,
         "points": 88,
         "_deepnote_index_column": 27766
        },
        {
         "price": 20,
         "points": 91,
         "_deepnote_index_column": 8523
        },
        {
         "price": 35,
         "points": 88,
         "_deepnote_index_column": 148414
        },
        {
         "price": 13,
         "points": 85,
         "_deepnote_index_column": 82654
        },
        {
         "price": 50,
         "points": 91,
         "_deepnote_index_column": 112637
        },
        {
         "price": 22,
         "points": 90,
         "_deepnote_index_column": 1210
        },
        {
         "price": 25,
         "points": 89,
         "_deepnote_index_column": 37190
        },
        {
         "price": 22,
         "points": 88,
         "_deepnote_index_column": 149839
        },
        {
         "price": 65,
         "points": 87,
         "_deepnote_index_column": 101716
        },
        {
         "price": 50,
         "points": 93,
         "_deepnote_index_column": 47640
        },
        {
         "price": 36,
         "points": 84,
         "_deepnote_index_column": 142152
        },
        {
         "price": 28,
         "points": 84,
         "_deepnote_index_column": 26496
        },
        {
         "price": 19,
         "points": 90,
         "_deepnote_index_column": 1815
        },
        {
         "price": 42,
         "points": 89,
         "_deepnote_index_column": 113576
        },
        {
         "price": 35,
         "points": 93,
         "_deepnote_index_column": 97051
        },
        {
         "price": 60,
         "points": 88,
         "_deepnote_index_column": 121684
        },
        {
         "price": 20,
         "points": 88,
         "_deepnote_index_column": 69747
        },
        {
         "price": 30,
         "points": 87,
         "_deepnote_index_column": 56521
        },
        {
         "price": 17,
         "points": 91,
         "_deepnote_index_column": 123416
        },
        {
         "price": 12,
         "points": 85,
         "_deepnote_index_column": 72517
        },
        {
         "price": 20,
         "points": 86,
         "_deepnote_index_column": 115505
        },
        {
         "price": 14,
         "points": 85,
         "_deepnote_index_column": 149132
        },
        {
         "price": 21,
         "points": 88,
         "_deepnote_index_column": 140211
        },
        {
         "price": 45,
         "points": 87,
         "_deepnote_index_column": 66432
        },
        {
         "price": 11,
         "points": 86,
         "_deepnote_index_column": 72297
        },
        {
         "price": 15,
         "points": 84,
         "_deepnote_index_column": 118509
        },
        {
         "price": 65,
         "points": 93,
         "_deepnote_index_column": 29147
        },
        {
         "price": 14,
         "points": 86,
         "_deepnote_index_column": 134275
        },
        {
         "price": 45,
         "points": 90,
         "_deepnote_index_column": 42726
        },
        {
         "price": 45,
         "points": 93,
         "_deepnote_index_column": 128128
        },
        {
         "price": 26,
         "points": 88,
         "_deepnote_index_column": 48839
        },
        {
         "price": 18,
         "points": 88,
         "_deepnote_index_column": 31477
        },
        {
         "price": 18,
         "points": 87,
         "_deepnote_index_column": 61375
        },
        {
         "price": 55,
         "points": 91,
         "_deepnote_index_column": 144621
        },
        {
         "price": 19,
         "points": 86,
         "_deepnote_index_column": 50487
        },
        {
         "price": 10,
         "points": 85,
         "_deepnote_index_column": 23411
        },
        {
         "price": 39,
         "points": 87,
         "_deepnote_index_column": 62081
        },
        {
         "price": 36,
         "points": 90,
         "_deepnote_index_column": 74586
        },
        {
         "price": 22,
         "points": 91,
         "_deepnote_index_column": 144141
        },
        {
         "price": 18,
         "points": 82,
         "_deepnote_index_column": 65173
        },
        {
         "price": 29,
         "points": 88,
         "_deepnote_index_column": 134923
        },
        {
         "price": 16,
         "points": 86,
         "_deepnote_index_column": 89342
        },
        {
         "price": 20,
         "points": 92,
         "_deepnote_index_column": 148292
        },
        {
         "price": 16,
         "points": 84,
         "_deepnote_index_column": 148240
        },
        {
         "price": 75,
         "points": 92,
         "_deepnote_index_column": 39429
        },
        {
         "price": 32,
         "points": 91,
         "_deepnote_index_column": 32602
        },
        {
         "price": 40,
         "points": 85,
         "_deepnote_index_column": 3719
        },
        {
         "price": 25,
         "points": 92,
         "_deepnote_index_column": 23928
        },
        {
         "price": 40,
         "points": 86,
         "_deepnote_index_column": 128643
        },
        {
         "price": 20,
         "points": 89,
         "_deepnote_index_column": 141713
        },
        {
         "price": 34,
         "points": 89,
         "_deepnote_index_column": 2398
        },
        {
         "price": 13,
         "points": 87,
         "_deepnote_index_column": 7055
        },
        {
         "price": 20,
         "points": 84,
         "_deepnote_index_column": 135897
        },
        {
         "price": 75,
         "points": 86,
         "_deepnote_index_column": 91519
        },
        {
         "price": 25,
         "points": 87,
         "_deepnote_index_column": 70353
        },
        {
         "price": 40,
         "points": 89,
         "_deepnote_index_column": 45620
        },
        {
         "price": 40,
         "points": 89,
         "_deepnote_index_column": 114229
        },
        {
         "price": 30,
         "points": 87,
         "_deepnote_index_column": 12048
        },
        {
         "price": 8,
         "points": 81,
         "_deepnote_index_column": 92666
        },
        {
         "price": 13,
         "points": 87,
         "_deepnote_index_column": 109650
        },
        {
         "price": 25,
         "points": 84,
         "_deepnote_index_column": 119560
        },
        {
         "price": 50,
         "points": 91,
         "_deepnote_index_column": 131922
        },
        {
         "price": 36,
         "points": 85,
         "_deepnote_index_column": 115863
        },
        {
         "price": 75,
         "points": 94,
         "_deepnote_index_column": 3637
        },
        {
         "price": 130,
         "points": 97,
         "_deepnote_index_column": 83544
        },
        {
         "price": 29,
         "points": 90,
         "_deepnote_index_column": 82811
        },
        {
         "price": 35,
         "points": 87,
         "_deepnote_index_column": 79378
        },
        {
         "price": 85,
         "points": 90,
         "_deepnote_index_column": 88111
        },
        {
         "price": 72,
         "points": 93,
         "_deepnote_index_column": 142842
        },
        {
         "price": 110,
         "points": 93,
         "_deepnote_index_column": 115477
        },
        {
         "price": 65,
         "points": 87,
         "_deepnote_index_column": 140388
        },
        {
         "price": 165,
         "points": 95,
         "_deepnote_index_column": 104002
        },
        {
         "price": 63,
         "points": 93,
         "_deepnote_index_column": 12099
        },
        {
         "price": 16,
         "points": 89,
         "_deepnote_index_column": 60711
        },
        {
         "price": 15,
         "points": 85,
         "_deepnote_index_column": 17200
        },
        {
         "price": 65,
         "points": 92,
         "_deepnote_index_column": 31063
        },
        {
         "price": 59,
         "points": 91,
         "_deepnote_index_column": 65075
        },
        {
         "price": 35,
         "points": 87,
         "_deepnote_index_column": 27868
        },
        {
         "price": 21,
         "points": 89,
         "_deepnote_index_column": 98560
        },
        {
         "price": 13,
         "points": 84,
         "_deepnote_index_column": 128617
        },
        {
         "price": 28,
         "points": 92,
         "_deepnote_index_column": 82886
        },
        {
         "price": 44,
         "points": 89,
         "_deepnote_index_column": 120184
        },
        {
         "price": 11,
         "points": 81,
         "_deepnote_index_column": 124972
        },
        {
         "price": 32,
         "points": 87,
         "_deepnote_index_column": 83313
        },
        {
         "price": 30,
         "points": 88,
         "_deepnote_index_column": 98057
        },
        {
         "price": 50,
         "points": 90,
         "_deepnote_index_column": 145014
        },
        {
         "price": 30,
         "points": 90,
         "_deepnote_index_column": 144738
        },
        {
         "price": 11,
         "points": 82,
         "_deepnote_index_column": 149233
        },
        {
         "price": 9,
         "points": 87,
         "_deepnote_index_column": 60454
        },
        {
         "price": 25,
         "points": 87,
         "_deepnote_index_column": 56546
        },
        {
         "price": 32,
         "points": 89,
         "_deepnote_index_column": 132800
        },
        {
         "price": 15,
         "points": 86,
         "_deepnote_index_column": 79109
        },
        {
         "price": 28,
         "points": 85,
         "_deepnote_index_column": 123770
        },
        {
         "price": 18,
         "points": 83,
         "_deepnote_index_column": 47905
        },
        {
         "price": 55,
         "points": 88,
         "_deepnote_index_column": 65792
        },
        {
         "price": 21,
         "points": 89,
         "_deepnote_index_column": 29924
        },
        {
         "price": 24,
         "points": 91,
         "_deepnote_index_column": 120881
        },
        {
         "price": 75,
         "points": 91,
         "_deepnote_index_column": 43318
        },
        {
         "price": 115,
         "points": 94,
         "_deepnote_index_column": 26688
        },
        {
         "price": 90,
         "points": 90,
         "_deepnote_index_column": 26994
        },
        {
         "price": 48,
         "points": 90,
         "_deepnote_index_column": 66494
        },
        {
         "price": 17,
         "points": 92,
         "_deepnote_index_column": 120249
        },
        {
         "price": 15,
         "points": 87,
         "_deepnote_index_column": 58219
        },
        {
         "price": 20,
         "points": 87,
         "_deepnote_index_column": 4386
        },
        {
         "price": 17,
         "points": 85,
         "_deepnote_index_column": 34658
        },
        {
         "price": 22,
         "points": 91,
         "_deepnote_index_column": 121674
        },
        {
         "price": 24,
         "points": 86,
         "_deepnote_index_column": 127738
        },
        {
         "price": 30,
         "points": 90,
         "_deepnote_index_column": 6240
        },
        {
         "price": 75,
         "points": 87,
         "_deepnote_index_column": 115551
        },
        {
         "price": 42,
         "points": 85,
         "_deepnote_index_column": 141794
        },
        {
         "price": 32,
         "points": 84,
         "_deepnote_index_column": 96999
        },
        {
         "price": 23,
         "points": 87,
         "_deepnote_index_column": 28399
        },
        {
         "price": 175,
         "points": 94,
         "_deepnote_index_column": 51435
        },
        {
         "price": 65,
         "points": 91,
         "_deepnote_index_column": 27285
        },
        {
         "price": 9,
         "points": 84,
         "_deepnote_index_column": 62485
        },
        {
         "price": 40,
         "points": 92,
         "_deepnote_index_column": 48215
        },
        {
         "price": 30,
         "points": 87,
         "_deepnote_index_column": 62741
        },
        {
         "price": 85,
         "points": 92,
         "_deepnote_index_column": 18902
        },
        {
         "price": 45,
         "points": 93,
         "_deepnote_index_column": 89398
        },
        {
         "price": 45,
         "points": 92,
         "_deepnote_index_column": 112727
        },
        {
         "price": 18,
         "points": 85,
         "_deepnote_index_column": 99969
        },
        {
         "price": 24,
         "points": 89,
         "_deepnote_index_column": 41347
        },
        {
         "price": 21,
         "points": 89,
         "_deepnote_index_column": 146974
        },
        {
         "price": 28,
         "points": 88,
         "_deepnote_index_column": 245
        },
        {
         "price": 22,
         "points": 87,
         "_deepnote_index_column": 4533
        },
        {
         "price": 70,
         "points": 88,
         "_deepnote_index_column": 134572
        },
        {
         "price": 18,
         "points": 84,
         "_deepnote_index_column": 82670
        },
        {
         "price": 11,
         "points": 86,
         "_deepnote_index_column": 54213
        },
        {
         "price": 42,
         "points": 89,
         "_deepnote_index_column": 86114
        },
        {
         "price": 19,
         "points": 88,
         "_deepnote_index_column": 19650
        },
        {
         "price": 19,
         "points": 86,
         "_deepnote_index_column": 95464
        },
        {
         "price": 20,
         "points": 86,
         "_deepnote_index_column": 147078
        },
        {
         "price": 30,
         "points": 93,
         "_deepnote_index_column": 11306
        },
        {
         "price": 30,
         "points": 89,
         "_deepnote_index_column": 41933
        },
        {
         "price": 18,
         "points": 90,
         "_deepnote_index_column": 137432
        },
        {
         "price": 7,
         "points": 81,
         "_deepnote_index_column": 114748
        },
        {
         "price": 45,
         "points": 95,
         "_deepnote_index_column": 3031
        },
        {
         "price": 9,
         "points": 86,
         "_deepnote_index_column": 61932
        },
        {
         "price": 42,
         "points": 92,
         "_deepnote_index_column": 8932
        },
        {
         "price": 38,
         "points": 91,
         "_deepnote_index_column": 53269
        },
        {
         "price": 11,
         "points": 83,
         "_deepnote_index_column": 150519
        },
        {
         "price": 24,
         "points": 91,
         "_deepnote_index_column": 16020
        },
        {
         "price": 50,
         "points": 91,
         "_deepnote_index_column": 31967
        },
        {
         "price": 22,
         "points": 86,
         "_deepnote_index_column": 95433
        },
        {
         "price": 40,
         "points": 89,
         "_deepnote_index_column": 13739
        },
        {
         "price": 35,
         "points": 84,
         "_deepnote_index_column": 111559
        },
        {
         "price": 18,
         "points": 90,
         "_deepnote_index_column": 97963
        },
        {
         "price": 65,
         "points": 89,
         "_deepnote_index_column": 113922
        },
        {
         "price": 60,
         "points": 90,
         "_deepnote_index_column": 131249
        },
        {
         "price": 25,
         "points": 90,
         "_deepnote_index_column": 24704
        },
        {
         "price": 30,
         "points": 91,
         "_deepnote_index_column": 117906
        },
        {
         "price": 40,
         "points": 90,
         "_deepnote_index_column": 125172
        },
        {
         "price": 25,
         "points": 89,
         "_deepnote_index_column": 29265
        },
        {
         "price": 32,
         "points": 92,
         "_deepnote_index_column": 145160
        },
        {
         "price": 36,
         "points": 87,
         "_deepnote_index_column": 7545
        },
        {
         "price": 22,
         "points": 86,
         "_deepnote_index_column": 99539
        },
        {
         "price": 45,
         "points": 90,
         "_deepnote_index_column": 7216
        },
        {
         "price": 62,
         "points": 93,
         "_deepnote_index_column": 93852
        },
        {
         "price": 24,
         "points": 85,
         "_deepnote_index_column": 117660
        },
        {
         "price": 6,
         "points": 83,
         "_deepnote_index_column": 117746
        },
        {
         "price": 29,
         "points": 87,
         "_deepnote_index_column": 133203
        },
        {
         "price": 10,
         "points": 85,
         "_deepnote_index_column": 67194
        },
        {
         "price": 16,
         "points": 85,
         "_deepnote_index_column": 61751
        },
        {
         "price": 17,
         "points": 90,
         "_deepnote_index_column": 66380
        },
        {
         "price": 40,
         "points": 89,
         "_deepnote_index_column": 106055
        },
        {
         "price": 77,
         "points": 91,
         "_deepnote_index_column": 110130
        },
        {
         "price": 25,
         "points": 88,
         "_deepnote_index_column": 34172
        },
        {
         "price": 45,
         "points": 90,
         "_deepnote_index_column": 144917
        },
        {
         "price": 38,
         "points": 85,
         "_deepnote_index_column": 145051
        },
        {
         "price": 14,
         "points": 90,
         "_deepnote_index_column": 124864
        },
        {
         "price": 35,
         "points": 83,
         "_deepnote_index_column": 94084
        },
        {
         "price": 50,
         "points": 89,
         "_deepnote_index_column": 133736
        },
        {
         "price": 12,
         "points": 82,
         "_deepnote_index_column": 118836
        },
        {
         "price": 50,
         "points": 87,
         "_deepnote_index_column": 12381
        },
        {
         "price": 11,
         "points": 87,
         "_deepnote_index_column": 80661
        },
        {
         "price": 20,
         "points": 84,
         "_deepnote_index_column": 140704
        },
        {
         "price": 15,
         "points": 89,
         "_deepnote_index_column": 3026
        },
        {
         "price": 22,
         "points": 84,
         "_deepnote_index_column": 79606
        },
        {
         "price": 25,
         "points": 88,
         "_deepnote_index_column": 62800
        },
        {
         "price": 18,
         "points": 87,
         "_deepnote_index_column": 89410
        },
        {
         "price": 27,
         "points": 87,
         "_deepnote_index_column": 130007
        },
        {
         "price": 50,
         "points": 88,
         "_deepnote_index_column": 79766
        },
        {
         "price": 14,
         "points": 85,
         "_deepnote_index_column": 67335
        },
        {
         "price": 16,
         "points": 83,
         "_deepnote_index_column": 118498
        },
        {
         "price": 7,
         "points": 84,
         "_deepnote_index_column": 147792
        },
        {
         "price": 17,
         "points": 90,
         "_deepnote_index_column": 14274
        },
        {
         "price": 18,
         "points": 85,
         "_deepnote_index_column": 148443
        },
        {
         "price": 13,
         "points": 85,
         "_deepnote_index_column": 20555
        },
        {
         "price": 32,
         "points": 90,
         "_deepnote_index_column": 33112
        },
        {
         "price": 20,
         "points": 86,
         "_deepnote_index_column": 124740
        },
        {
         "price": 23,
         "points": 82,
         "_deepnote_index_column": 50827
        },
        {
         "price": 18,
         "points": 85,
         "_deepnote_index_column": 33487
        },
        {
         "price": 45,
         "points": 91,
         "_deepnote_index_column": 92544
        },
        {
         "price": 25,
         "points": 87,
         "_deepnote_index_column": 132109
        },
        {
         "price": 20,
         "points": 86,
         "_deepnote_index_column": 39116
        },
        {
         "price": 16,
         "points": 88,
         "_deepnote_index_column": 4657
        }
       ]
      },
      "text/plain": "        price  points\n148875    8.0      88\n89841    30.0      83\n104373   13.0      85\n73976    24.0      87\n135407   20.0      82\n...       ...     ...\n33487    18.0      85\n92544    45.0      91\n132109   25.0      87\n39116    20.0      86\n4657     16.0      88\n\n[5000 rows x 2 columns]",
      "text/html": "<div>\n<style scoped>\n    .dataframe tbody tr th:only-of-type {\n        vertical-align: middle;\n    }\n\n    .dataframe tbody tr th {\n        vertical-align: top;\n    }\n\n    .dataframe thead th {\n        text-align: right;\n    }\n</style>\n<table border=\"1\" class=\"dataframe\">\n  <thead>\n    <tr style=\"text-align: right;\">\n      <th></th>\n      <th>price</th>\n      <th>points</th>\n    </tr>\n  </thead>\n  <tbody>\n    <tr>\n      <th>148875</th>\n      <td>8.0</td>\n      <td>88</td>\n    </tr>\n    <tr>\n      <th>89841</th>\n      <td>30.0</td>\n      <td>83</td>\n    </tr>\n    <tr>\n      <th>104373</th>\n      <td>13.0</td>\n      <td>85</td>\n    </tr>\n    <tr>\n      <th>73976</th>\n      <td>24.0</td>\n      <td>87</td>\n    </tr>\n    <tr>\n      <th>135407</th>\n      <td>20.0</td>\n      <td>82</td>\n    </tr>\n    <tr>\n      <th>...</th>\n      <td>...</td>\n      <td>...</td>\n    </tr>\n    <tr>\n      <th>33487</th>\n      <td>18.0</td>\n      <td>85</td>\n    </tr>\n    <tr>\n      <th>92544</th>\n      <td>45.0</td>\n      <td>91</td>\n    </tr>\n    <tr>\n      <th>132109</th>\n      <td>25.0</td>\n      <td>87</td>\n    </tr>\n    <tr>\n      <th>39116</th>\n      <td>20.0</td>\n      <td>86</td>\n    </tr>\n    <tr>\n      <th>4657</th>\n      <td>16.0</td>\n      <td>88</td>\n    </tr>\n  </tbody>\n</table>\n<p>5000 rows × 2 columns</p>\n</div>"
     },
     "metadata": {}
    }
   ]
  },
  {
   "cell_type": "code",
   "metadata": {
    "tags": [],
    "cell_id": "00055-e4c95967-8216-4a12-9725-68377ef1ce12",
    "deepnote_to_be_reexecuted": false,
    "source_hash": "619d714",
    "execution_start": 1634407562130,
    "execution_millis": 8322,
    "deepnote_cell_type": "code"
   },
   "source": "sns.kdeplot(data = df_wine_reviews_short_2, x = 'price', y = 'points')",
   "execution_count": 18,
   "outputs": [
    {
     "output_type": "execute_result",
     "execution_count": 18,
     "data": {
      "text/plain": "<AxesSubplot:xlabel='price', ylabel='points'>"
     },
     "metadata": {}
    },
    {
     "data": {
      "text/plain": "<Figure size 432x288 with 1 Axes>",
      "image/png": "[encoded data removed]"
     },
     "metadata": {
      "image/png": {
       "width": 396,
       "height": 268
      }
     },
     "output_type": "display_data"
    }
   ]
  },
  {
   "cell_type": "markdown",
   "source": "### Boxplot and violin plot",
   "metadata": {
    "tags": [],
    "is_collapsed": false,
    "cell_id": "00057-a0c93cec-8b56-4c02-8a92-5ce13f65d6a4",
    "deepnote_cell_type": "text-cell-h3"
   }
  },
  {
   "cell_type": "markdown",
   "source": "seaborn provides a boxplot function. It creates a statistically useful plot that looks like this:",
   "metadata": {
    "tags": [],
    "cell_id": "00058-a719de2f-b430-440c-bb32-87f3985e7cd2",
    "deepnote_cell_type": "markdown"
   }
  },
  {
   "cell_type": "code",
   "metadata": {
    "tags": [],
    "cell_id": "00057-8da9ef5b-edf5-495a-ad64-40211b50ac43",
    "deepnote_to_be_reexecuted": false,
    "source_hash": "f60d9ad4",
    "execution_start": 1634407570455,
    "execution_millis": 670,
    "deepnote_cell_type": "code"
   },
   "source": "df = df_wine_reviews[df_wine_reviews.variety.isin(df_wine_reviews.variety.value_counts().head(5).index)]\n\nsns.boxplot(\n    x='variety',\n    y='points',\n    data=df\n)\nplt.xticks(rotation='vertical');",
   "execution_count": 19,
   "outputs": [
    {
     "data": {
      "text/plain": "<Figure size 432x288 with 1 Axes>",
      "image/png": "[encoded data removed]"
     },
     "metadata": {
      "image/png": {
       "width": 407,
       "height": 401
      }
     },
     "output_type": "display_data"
    }
   ]
  },
  {
   "cell_type": "markdown",
   "source": "The center of the distributions shown above is the \"box\" in boxplot. The top of the box is the 75th percentile, while the bottom is the 25th percentile. In other words, half of the data is distributed within the box! The green line in the middle is the median.\n\nThe other part of the plot, the \"whiskers\", shows the extent of the points beyond the center of the distribution. Individual circles beyond that are outliers.\n\nThis boxplot shows us that although all five wines recieve broadly similar ratings, Bordeaux-style wines tend to be rated a little higher than a Chardonnay.\n\nBoxplots are great for summarizing the shape of many datasets. They also don't have a limit in terms of numeracy: you can place as many boxes in the plot as you feel comfortable squeezing onto the page.",
   "metadata": {
    "tags": [],
    "cell_id": "00060-adfaa3b6-4a52-4c14-b0b3-daf3d53b4825",
    "deepnote_cell_type": "markdown"
   }
  },
  {
   "cell_type": "markdown",
   "source": "### Violin Plot",
   "metadata": {
    "tags": [],
    "is_collapsed": false,
    "cell_id": "00061-ca2d7bf2-3ce9-44b7-8016-3231e27bda8d",
    "deepnote_cell_type": "text-cell-h3"
   }
  },
  {
   "cell_type": "markdown",
   "source": "I find the slightly more advanced violinplot to be more visually enticing, in most cases:",
   "metadata": {
    "tags": [],
    "cell_id": "00062-298792dc-27ff-47c0-aabc-f749995fd89e",
    "deepnote_cell_type": "markdown"
   }
  },
  {
   "cell_type": "code",
   "metadata": {
    "tags": [],
    "cell_id": "00061-9986fec4-0431-478c-8e1b-f825332cbd17",
    "deepnote_to_be_reexecuted": false,
    "source_hash": "16075aa1",
    "execution_start": 1634407571131,
    "execution_millis": 1242,
    "deepnote_cell_type": "code"
   },
   "source": "sns.violinplot(\n    x='variety',\n    y='points',\n    data=df_wine_reviews[df_wine_reviews.variety.isin(df_wine_reviews.variety.value_counts()[:5].index)]\n)\nplt.xticks(rotation='vertical');",
   "execution_count": 20,
   "outputs": [
    {
     "data": {
      "text/plain": "<Figure size 432x288 with 1 Axes>",
      "image/png": "[encoded data removed]"
     },
     "metadata": {
      "image/png": {
       "width": 396,
       "height": 401
      }
     },
     "output_type": "display_data"
    }
   ]
  },
  {
   "cell_type": "markdown",
   "source": "## SubPlots",
   "metadata": {
    "tags": [],
    "is_collapsed": false,
    "cell_id": "00064-9e36e618-29bb-4dc4-889b-e660fb9c626e",
    "deepnote_cell_type": "text-cell-h2"
   }
  },
  {
   "cell_type": "markdown",
   "source": "Subplotting is a technique for creating multiple plots that live side-by-side in one overall figure. We can use the subplots method to create a figure with multiple subplots. subplots takes two arguments. The first one controls the number of rows, the second one the number of columns.",
   "metadata": {
    "tags": [],
    "cell_id": "00065-7142cc6f-722d-43e4-ace3-1f83ee2aa1f6",
    "deepnote_cell_type": "markdown"
   }
  },
  {
   "cell_type": "code",
   "metadata": {
    "tags": [],
    "cell_id": "00066-1a369980-5b34-4bc6-906f-4928e4c3541c",
    "deepnote_to_be_reexecuted": false,
    "source_hash": "728b1167",
    "execution_start": 1634407572476,
    "execution_millis": 694,
    "deepnote_cell_type": "code"
   },
   "source": "fig, axarr = plt.subplots(2, 1, figsize=(12, 8))",
   "execution_count": 21,
   "outputs": [
    {
     "data": {
      "text/plain": "<Figure size 864x576 with 2 Axes>",
      "image/png": "[encoded data removed]"
     },
     "metadata": {
      "image/png": {
       "width": 719,
       "height": 472
      }
     },
     "output_type": "display_data"
    }
   ]
  },
  {
   "cell_type": "markdown",
   "source": "To tell pandas which subplot we want a new plot to go in—the first one or the second one—we need to grab the proper axis out of the list and pass it into pandas via the ax parameter:",
   "metadata": {
    "tags": [],
    "cell_id": "00067-18f229d5-7e50-4ea3-bd16-dce19cc76d66",
    "deepnote_cell_type": "markdown"
   }
  },
  {
   "cell_type": "code",
   "metadata": {
    "tags": [],
    "cell_id": "00068-d22ff32e-c904-4770-8afb-74fc43e11373",
    "deepnote_to_be_reexecuted": false,
    "source_hash": "f0eccde",
    "execution_start": 1634407573184,
    "execution_millis": 1267,
    "deepnote_cell_type": "code"
   },
   "source": "fig, axarr = plt.subplots(2, 1, figsize=(12, 8))\n\ndf_wine_reviews['points'].value_counts().sort_index().plot.bar(\n    ax=axarr[0]\n)\n\ndf_wine_reviews['province'].value_counts().head(20).plot.bar(\n    ax=axarr[1]\n)",
   "execution_count": 22,
   "outputs": [
    {
     "output_type": "execute_result",
     "execution_count": 22,
     "data": {
      "text/plain": "<AxesSubplot:>"
     },
     "metadata": {}
    },
    {
     "data": {
      "text/plain": "<Figure size 864x576 with 2 Axes>",
      "image/png": "[encoded data removed]"
     },
     "metadata": {
      "image/png": {
       "width": 728,
       "height": 559
      }
     },
     "output_type": "display_data"
    }
   ]
  },
  {
   "cell_type": "markdown",
   "source": "We are of course not limited to having only a single row. We can create as many subplots as we want, in whatever configuration we need.\n\nFor example:",
   "metadata": {
    "tags": [],
    "cell_id": "00069-f3f9e9c2-6516-4301-889c-99ff27709dcd",
    "deepnote_cell_type": "markdown"
   }
  },
  {
   "cell_type": "code",
   "metadata": {
    "tags": [],
    "cell_id": "00070-d96c930b-205f-49c3-8580-66f170d49690",
    "deepnote_to_be_reexecuted": false,
    "source_hash": "78abbaba",
    "execution_start": 1634407574451,
    "execution_millis": 1157,
    "deepnote_cell_type": "code"
   },
   "source": "fig, axarr = plt.subplots(2, 2, figsize=(12, 8))",
   "execution_count": 23,
   "outputs": [
    {
     "data": {
      "text/plain": "<Figure size 864x576 with 4 Axes>",
      "image/png": "[encoded data removed]"
     },
     "metadata": {
      "image/png": {
       "width": 719,
       "height": 472
      }
     },
     "output_type": "display_data"
    }
   ]
  },
  {
   "cell_type": "markdown",
   "source": "That means that to plot our data from earlier, we now need a row number, then a column number.",
   "metadata": {
    "tags": [],
    "cell_id": "00071-06e8eb88-207f-4ce3-9243-f68736b6db2e",
    "deepnote_cell_type": "markdown"
   }
  },
  {
   "cell_type": "code",
   "source": "fig, axarr = plt.subplots(2, 2, figsize=(12, 8))\n\ndf_wine_reviews['points'].value_counts().sort_index().plot.bar(\n    ax=axarr[0][0], fontsize=12, color='mediumvioletred'\n)\naxarr[0][0].set_title(\"Wine Scores\", fontsize=18)\n\ndf_wine_reviews['variety'].value_counts().head(20).plot.bar(\n    ax=axarr[1][0], fontsize=12, color='mediumvioletred'\n)\naxarr[1][0].set_title(\"Wine Varieties\", fontsize=18)\n\ndf_wine_reviews['province'].value_counts().head(20).plot.bar(\n    ax=axarr[1][1], fontsize=12, color='mediumvioletred'\n)\naxarr[1][1].set_title(\"Wine Origins\", fontsize=18)\n\ndf_wine_reviews['price'].value_counts().plot.hist(\n    ax=axarr[0][1], fontsize=12, color='mediumvioletred'\n)\naxarr[0][1].set_title(\"Wine Prices\", fontsize=18)\n\nplt.subplots_adjust(hspace=.3)\n\nsns.despine()",
   "metadata": {
    "tags": [],
    "cell_id": "00071-ce9cc2fd-70f5-4eab-8406-a802e2ae73e4",
    "deepnote_to_be_reexecuted": false,
    "source_hash": "a75531da",
    "execution_start": 1634407694459,
    "execution_millis": 2485,
    "deepnote_cell_type": "code"
   },
   "outputs": [
    {
     "data": {
      "text/plain": "<Figure size 864x576 with 4 Axes>",
      "image/png": "[encoded data removed]"
     },
     "metadata": {
      "image/png": {
       "width": 737,
       "height": 655
      }
     },
     "output_type": "display_data"
    }
   ],
   "execution_count": 26
  },
  {
   "cell_type": "markdown",
   "source": "<a style='text-decoration:none;line-height:16px;display:flex;color:#5B5B62;padding:10px;justify-content:end;' href='https://deepnote.com?utm_source=created-in-deepnote-cell&projectId=c3e4079d-b65d-4f98-a9c4-e84568c199f2' target=\"_blank\">\n<img alt='Created in deepnote.com' style='display:inline;max-height:16px;margin:0px;margin-right:7.5px;' src='data:image/svg+xml;base64,PD94bWwgdmVyc2lvbj0iMS4wIiBlbmNvZGluZz0iVVRGLTgiPz4KPHN2ZyB3aWR0aD0iODBweCIgaGVpZ2h0PSI4MHB4IiB2aWV3Qm94PSIwIDAgODAgODAiIHZlcnNpb249IjEuMSIgeG1sbnM9Imh0dHA6Ly93d3cudzMub3JnLzIwMDAvc3ZnIiB4bWxuczp4bGluaz0iaHR0cDovL3d3dy53My5vcmcvMTk5OS94bGluayI+CiAgICA8IS0tIEdlbmVyYXRvcjogU2tldGNoIDU0LjEgKDc2NDkwKSAtIGh0dHBzOi8vc2tldGNoYXBwLmNvbSAtLT4KICAgIDx0aXRsZT5Hcm91cCAzPC90aXRsZT4KICAgIDxkZXNjPkNyZWF0ZWQgd2l0aCBTa2V0Y2guPC9kZXNjPgogICAgPGcgaWQ9IkxhbmRpbmciIHN0cm9rZT0ibm9uZSIgc3Ryb2tlLXdpZHRoPSIxIiBmaWxsPSJub25lIiBmaWxsLXJ1bGU9ImV2ZW5vZGQiPgogICAgICAgIDxnIGlkPSJBcnRib2FyZCIgdHJhbnNmb3JtPSJ0cmFuc2xhdGUoLTEyMzUuMDAwMDAwLCAtNzkuMDAwMDAwKSI+CiAgICAgICAgICAgIDxnIGlkPSJHcm91cC0zIiB0cmFuc2Zvcm09InRyYW5zbGF0ZSgxMjM1LjAwMDAwMCwgNzkuMDAwMDAwKSI+CiAgICAgICAgICAgICAgICA8cG9seWdvbiBpZD0iUGF0aC0yMCIgZmlsbD0iIzAyNjVCNCIgcG9pbnRzPSIyLjM3NjIzNzYyIDgwIDM4LjA0NzY2NjcgODAgNTcuODIxNzgyMiA3My44MDU3NTkyIDU3LjgyMTc4MjIgMzIuNzU5MjczOSAzOS4xNDAyMjc4IDMxLjY4MzE2ODMiPjwvcG9seWdvbj4KICAgICAgICAgICAgICAgIDxwYXRoIGQ9Ik0zNS4wMDc3MTgsODAgQzQyLjkwNjIwMDcsNzYuNDU0OTM1OCA0Ny41NjQ5MTY3LDcxLjU0MjI2NzEgNDguOTgzODY2LDY1LjI2MTk5MzkgQzUxLjExMjI4OTksNTUuODQxNTg0MiA0MS42NzcxNzk1LDQ5LjIxMjIyODQgMjUuNjIzOTg0Niw0OS4yMTIyMjg0IEMyNS40ODQ5Mjg5LDQ5LjEyNjg0NDggMjkuODI2MTI5Niw0My4yODM4MjQ4IDM4LjY0NzU4NjksMzEuNjgzMTY4MyBMNzIuODcxMjg3MSwzMi41NTQ0MjUgTDY1LjI4MDk3Myw2Ny42NzYzNDIxIEw1MS4xMTIyODk5LDc3LjM3NjE0NCBMMzUuMDA3NzE4LDgwIFoiIGlkPSJQYXRoLTIyIiBmaWxsPSIjMDAyODY4Ij48L3BhdGg+CiAgICAgICAgICAgICAgICA8cGF0aCBkPSJNMCwzNy43MzA0NDA1IEwyNy4xMTQ1MzcsMC4yNTcxMTE0MzYgQzYyLjM3MTUxMjMsLTEuOTkwNzE3MDEgODAsMTAuNTAwMzkyNyA4MCwzNy43MzA0NDA1IEM4MCw2NC45NjA0ODgyIDY0Ljc3NjUwMzgsNzkuMDUwMzQxNCAzNC4zMjk1MTEzLDgwIEM0Ny4wNTUzNDg5LDc3LjU2NzA4MDggNTMuNDE4MjY3Nyw3MC4zMTM2MTAzIDUzLjQxODI2NzcsNTguMjM5NTg4NSBDNTMuNDE4MjY3Nyw0MC4xMjg1NTU3IDM2LjMwMzk1NDQsMzcuNzMwNDQwNSAyNS4yMjc0MTcsMzcuNzMwNDQwNSBDMTcuODQzMDU4NiwzNy43MzA0NDA1IDkuNDMzOTE5NjYsMzcuNzMwNDQwNSAwLDM3LjczMDQ0MDUgWiIgaWQ9IlBhdGgtMTkiIGZpbGw9IiMzNzkzRUYiPjwvcGF0aD4KICAgICAgICAgICAgPC9nPgogICAgICAgIDwvZz4KICAgIDwvZz4KPC9zdmc+' > </img>\nCreated in <span style='font-weight:600;margin-left:4px;'>Deepnote</span></a>",
   "metadata": {
    "tags": [],
    "created_in_deepnote_cell": true,
    "deepnote_cell_type": "markdown"
   }
  }
 ],
 "nbformat": 4,
 "nbformat_minor": 2,
 "metadata": {
  "orig_nbformat": 2,
  "deepnote": {
   "is_reactive": false
  },
  "deepnote_notebook_id": "c98ecdd6-f825-40f4-a243-d5725fe75f79",
  "deepnote_execution_queue": []
 }
}